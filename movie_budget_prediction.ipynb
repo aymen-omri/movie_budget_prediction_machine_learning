{
 "cells": [
  {
   "cell_type": "markdown",
   "metadata": {},
   "source": [
    "# Prédiction de budget"
   ]
  },
  {
   "cell_type": "code",
   "execution_count": 13,
   "metadata": {},
   "outputs": [],
   "source": [
    "import pandas as pd\n",
    "import matplotlib.pyplot as plt\n",
    "import seaborn as sns"
   ]
  },
  {
   "cell_type": "code",
   "execution_count": 14,
   "metadata": {},
   "outputs": [
    {
     "data": {
      "text/html": [
       "<div>\n",
       "<style scoped>\n",
       "    .dataframe tbody tr th:only-of-type {\n",
       "        vertical-align: middle;\n",
       "    }\n",
       "\n",
       "    .dataframe tbody tr th {\n",
       "        vertical-align: top;\n",
       "    }\n",
       "\n",
       "    .dataframe thead th {\n",
       "        text-align: right;\n",
       "    }\n",
       "</style>\n",
       "<table border=\"1\" class=\"dataframe\">\n",
       "  <thead>\n",
       "    <tr style=\"text-align: right;\">\n",
       "      <th></th>\n",
       "      <th>name</th>\n",
       "      <th>rating</th>\n",
       "      <th>genre</th>\n",
       "      <th>year</th>\n",
       "      <th>released</th>\n",
       "      <th>score</th>\n",
       "      <th>votes</th>\n",
       "      <th>director</th>\n",
       "      <th>writer</th>\n",
       "      <th>star</th>\n",
       "      <th>country</th>\n",
       "      <th>budget</th>\n",
       "      <th>gross</th>\n",
       "      <th>company</th>\n",
       "      <th>runtime</th>\n",
       "    </tr>\n",
       "  </thead>\n",
       "  <tbody>\n",
       "    <tr>\n",
       "      <th>0</th>\n",
       "      <td>The Shining</td>\n",
       "      <td>R</td>\n",
       "      <td>Drama</td>\n",
       "      <td>1980</td>\n",
       "      <td>June 13, 1980 (United States)</td>\n",
       "      <td>8.4</td>\n",
       "      <td>927000.0</td>\n",
       "      <td>Stanley Kubrick</td>\n",
       "      <td>Stephen King</td>\n",
       "      <td>Jack Nicholson</td>\n",
       "      <td>United Kingdom</td>\n",
       "      <td>19000000.0</td>\n",
       "      <td>46998772.0</td>\n",
       "      <td>Warner Bros.</td>\n",
       "      <td>146.0</td>\n",
       "    </tr>\n",
       "    <tr>\n",
       "      <th>1</th>\n",
       "      <td>The Blue Lagoon</td>\n",
       "      <td>R</td>\n",
       "      <td>Adventure</td>\n",
       "      <td>1980</td>\n",
       "      <td>July 2, 1980 (United States)</td>\n",
       "      <td>5.8</td>\n",
       "      <td>65000.0</td>\n",
       "      <td>Randal Kleiser</td>\n",
       "      <td>Henry De Vere Stacpoole</td>\n",
       "      <td>Brooke Shields</td>\n",
       "      <td>United States</td>\n",
       "      <td>4500000.0</td>\n",
       "      <td>58853106.0</td>\n",
       "      <td>Columbia Pictures</td>\n",
       "      <td>104.0</td>\n",
       "    </tr>\n",
       "    <tr>\n",
       "      <th>2</th>\n",
       "      <td>Star Wars: Episode V - The Empire Strikes Back</td>\n",
       "      <td>PG</td>\n",
       "      <td>Action</td>\n",
       "      <td>1980</td>\n",
       "      <td>June 20, 1980 (United States)</td>\n",
       "      <td>8.7</td>\n",
       "      <td>1200000.0</td>\n",
       "      <td>Irvin Kershner</td>\n",
       "      <td>Leigh Brackett</td>\n",
       "      <td>Mark Hamill</td>\n",
       "      <td>United States</td>\n",
       "      <td>18000000.0</td>\n",
       "      <td>538375067.0</td>\n",
       "      <td>Lucasfilm</td>\n",
       "      <td>124.0</td>\n",
       "    </tr>\n",
       "    <tr>\n",
       "      <th>3</th>\n",
       "      <td>Airplane!</td>\n",
       "      <td>PG</td>\n",
       "      <td>Comedy</td>\n",
       "      <td>1980</td>\n",
       "      <td>July 2, 1980 (United States)</td>\n",
       "      <td>7.7</td>\n",
       "      <td>221000.0</td>\n",
       "      <td>Jim Abrahams</td>\n",
       "      <td>Jim Abrahams</td>\n",
       "      <td>Robert Hays</td>\n",
       "      <td>United States</td>\n",
       "      <td>3500000.0</td>\n",
       "      <td>83453539.0</td>\n",
       "      <td>Paramount Pictures</td>\n",
       "      <td>88.0</td>\n",
       "    </tr>\n",
       "    <tr>\n",
       "      <th>4</th>\n",
       "      <td>Caddyshack</td>\n",
       "      <td>R</td>\n",
       "      <td>Comedy</td>\n",
       "      <td>1980</td>\n",
       "      <td>July 25, 1980 (United States)</td>\n",
       "      <td>7.3</td>\n",
       "      <td>108000.0</td>\n",
       "      <td>Harold Ramis</td>\n",
       "      <td>Brian Doyle-Murray</td>\n",
       "      <td>Chevy Chase</td>\n",
       "      <td>United States</td>\n",
       "      <td>6000000.0</td>\n",
       "      <td>39846344.0</td>\n",
       "      <td>Orion Pictures</td>\n",
       "      <td>98.0</td>\n",
       "    </tr>\n",
       "  </tbody>\n",
       "</table>\n",
       "</div>"
      ],
      "text/plain": [
       "                                             name rating      genre  year  \\\n",
       "0                                     The Shining      R      Drama  1980   \n",
       "1                                 The Blue Lagoon      R  Adventure  1980   \n",
       "2  Star Wars: Episode V - The Empire Strikes Back     PG     Action  1980   \n",
       "3                                       Airplane!     PG     Comedy  1980   \n",
       "4                                      Caddyshack      R     Comedy  1980   \n",
       "\n",
       "                        released  score      votes         director  \\\n",
       "0  June 13, 1980 (United States)    8.4   927000.0  Stanley Kubrick   \n",
       "1   July 2, 1980 (United States)    5.8    65000.0   Randal Kleiser   \n",
       "2  June 20, 1980 (United States)    8.7  1200000.0   Irvin Kershner   \n",
       "3   July 2, 1980 (United States)    7.7   221000.0     Jim Abrahams   \n",
       "4  July 25, 1980 (United States)    7.3   108000.0     Harold Ramis   \n",
       "\n",
       "                    writer            star         country      budget  \\\n",
       "0             Stephen King  Jack Nicholson  United Kingdom  19000000.0   \n",
       "1  Henry De Vere Stacpoole  Brooke Shields   United States   4500000.0   \n",
       "2           Leigh Brackett     Mark Hamill   United States  18000000.0   \n",
       "3             Jim Abrahams     Robert Hays   United States   3500000.0   \n",
       "4       Brian Doyle-Murray     Chevy Chase   United States   6000000.0   \n",
       "\n",
       "         gross             company  runtime  \n",
       "0   46998772.0        Warner Bros.    146.0  \n",
       "1   58853106.0   Columbia Pictures    104.0  \n",
       "2  538375067.0           Lucasfilm    124.0  \n",
       "3   83453539.0  Paramount Pictures     88.0  \n",
       "4   39846344.0      Orion Pictures     98.0  "
      ]
     },
     "execution_count": 14,
     "metadata": {},
     "output_type": "execute_result"
    }
   ],
   "source": [
    "##lire et afficher notre dataset\n",
    "df = pd.read_csv(\"./movies.csv\")\n",
    "df.head()"
   ]
  },
  {
   "cell_type": "code",
   "execution_count": 15,
   "metadata": {},
   "outputs": [
    {
     "data": {
      "text/plain": [
       "<AxesSubplot:>"
      ]
     },
     "execution_count": 15,
     "metadata": {},
     "output_type": "execute_result"
    },
    {
     "data": {
      "image/png": "[encoded data removed]",
      "text/plain": [
       "<Figure size 640x480 with 1 Axes>"
      ]
     },
     "metadata": {},
     "output_type": "display_data"
    }
   ],
   "source": [
    "##visualiser les valeurs null de notre dataset\n",
    "plt.figure()\n",
    "sns.heatmap(df.isna(),cbar=False)"
   ]
  },
  {
   "cell_type": "code",
   "execution_count": 16,
   "metadata": {},
   "outputs": [
    {
     "data": {
      "text/plain": [
       "name           0\n",
       "rating        77\n",
       "genre          0\n",
       "year           0\n",
       "released       2\n",
       "score          3\n",
       "votes          3\n",
       "director       0\n",
       "writer         3\n",
       "star           1\n",
       "country        3\n",
       "budget      2171\n",
       "gross        189\n",
       "company       17\n",
       "runtime        4\n",
       "dtype: int64"
      ]
     },
     "execution_count": 16,
     "metadata": {},
     "output_type": "execute_result"
    }
   ],
   "source": [
    "##Afficher la sommes des valeurs null pour chaque attribut\n",
    "df.isnull().sum()"
   ]
  },
  {
   "cell_type": "code",
   "execution_count": 17,
   "metadata": {},
   "outputs": [
    {
     "name": "stdout",
     "output_type": "stream",
     "text": [
      "<class 'pandas.core.frame.DataFrame'>\n",
      "RangeIndex: 7668 entries, 0 to 7667\n",
      "Data columns (total 15 columns):\n",
      " #   Column    Non-Null Count  Dtype  \n",
      "---  ------    --------------  -----  \n",
      " 0   name      7668 non-null   object \n",
      " 1   rating    7591 non-null   object \n",
      " 2   genre     7668 non-null   object \n",
      " 3   year      7668 non-null   int64  \n",
      " 4   released  7666 non-null   object \n",
      " 5   score     7665 non-null   float64\n",
      " 6   votes     7665 non-null   float64\n",
      " 7   director  7668 non-null   object \n",
      " 8   writer    7665 non-null   object \n",
      " 9   star      7667 non-null   object \n",
      " 10  country   7665 non-null   object \n",
      " 11  budget    5497 non-null   float64\n",
      " 12  gross     7479 non-null   float64\n",
      " 13  company   7651 non-null   object \n",
      " 14  runtime   7664 non-null   float64\n",
      "dtypes: float64(5), int64(1), object(9)\n",
      "memory usage: 898.7+ KB\n"
     ]
    }
   ],
   "source": [
    "##Afficher les informations de notre dataset\n",
    "df.info()"
   ]
  },
  {
   "cell_type": "markdown",
   "metadata": {},
   "source": [
    "## Nettoyage des données"
   ]
  },
  {
   "cell_type": "code",
   "execution_count": 18,
   "metadata": {},
   "outputs": [],
   "source": [
    "##Création du fonction \"dropNull\" qu'on va l'utiliser pour supprimer les lignes qui contiennent des valeurs manquantes \n",
    "##pour un nom d'attribut donné:\n",
    "def dropNull(dataframe,col_name):\n",
    "    movies = dataframe.dropna(subset=[col_name])\n",
    "    return movies\n"
   ]
  },
  {
   "cell_type": "code",
   "execution_count": 19,
   "metadata": {},
   "outputs": [
    {
     "name": "stdout",
     "output_type": "stream",
     "text": [
      "<class 'pandas.core.frame.DataFrame'>\n",
      "Int64Index: 7576 entries, 0 to 7661\n",
      "Data columns (total 15 columns):\n",
      " #   Column    Non-Null Count  Dtype  \n",
      "---  ------    --------------  -----  \n",
      " 0   name      7576 non-null   object \n",
      " 1   rating    7576 non-null   object \n",
      " 2   genre     7576 non-null   object \n",
      " 3   year      7576 non-null   int64  \n",
      " 4   released  7576 non-null   object \n",
      " 5   score     7575 non-null   float64\n",
      " 6   votes     7575 non-null   float64\n",
      " 7   director  7576 non-null   object \n",
      " 8   writer    7576 non-null   object \n",
      " 9   star      7576 non-null   object \n",
      " 10  country   7576 non-null   object \n",
      " 11  budget    5475 non-null   float64\n",
      " 12  gross     7413 non-null   float64\n",
      " 13  company   7576 non-null   object \n",
      " 14  runtime   7575 non-null   float64\n",
      "dtypes: float64(5), int64(1), object(9)\n",
      "memory usage: 947.0+ KB\n"
     ]
    }
   ],
   "source": [
    "df = dropNull(df,'rating')\n",
    "df = dropNull(df,'released')\n",
    "df =  dropNull(df,'writer')\n",
    "df = dropNull(df,'star')\n",
    "df = dropNull(df,'country')\n",
    "df = dropNull(df,'company')\n",
    "df.info()"
   ]
  },
  {
   "cell_type": "code",
   "execution_count": 20,
   "metadata": {},
   "outputs": [
    {
     "name": "stdout",
     "output_type": "stream",
     "text": [
      "6.5\n",
      "21000000.0\n",
      "33000.0\n",
      "104.0\n",
      "20419446.0\n"
     ]
    }
   ],
   "source": [
    "##Calcul de median pour les attributs score, votes, budget, runtime et gross\n",
    "score_m = df[\"score\"].median()\n",
    "votes_m = df[\"votes\"].median()\n",
    "budget_m = df[\"budget\"].median()\n",
    "runtime_m = df[\"runtime\"].median()\n",
    "gross_m = df[\"gross\"].median()\n",
    "\n",
    "print(score_m)\n",
    "print(budget_m)\n",
    "print(votes_m)\n",
    "print(runtime_m)\n",
    "print(gross_m)"
   ]
  },
  {
   "cell_type": "code",
   "execution_count": 21,
   "metadata": {},
   "outputs": [
    {
     "name": "stdout",
     "output_type": "stream",
     "text": [
      "<class 'pandas.core.frame.DataFrame'>\n",
      "Int64Index: 7576 entries, 0 to 7661\n",
      "Data columns (total 15 columns):\n",
      " #   Column    Non-Null Count  Dtype  \n",
      "---  ------    --------------  -----  \n",
      " 0   name      7576 non-null   object \n",
      " 1   rating    7576 non-null   object \n",
      " 2   genre     7576 non-null   object \n",
      " 3   year      7576 non-null   int64  \n",
      " 4   released  7576 non-null   object \n",
      " 5   score     7576 non-null   float64\n",
      " 6   votes     7576 non-null   float64\n",
      " 7   director  7576 non-null   object \n",
      " 8   writer    7576 non-null   object \n",
      " 9   star      7576 non-null   object \n",
      " 10  country   7576 non-null   object \n",
      " 11  budget    7576 non-null   float64\n",
      " 12  gross     7576 non-null   float64\n",
      " 13  company   7576 non-null   object \n",
      " 14  runtime   7576 non-null   float64\n",
      "dtypes: float64(5), int64(1), object(9)\n",
      "memory usage: 947.0+ KB\n"
     ]
    }
   ],
   "source": [
    "##Remplacer les valeurs null des attributs score, votes, budget, runtime et gross avec leurs median\n",
    "df['score'][df['score'].isnull()]=score_m\n",
    "df['votes'][df['votes'].isnull()]=votes_m\n",
    "df['budget'][df['budget'].isnull()]=budget_m\n",
    "df['runtime'][df['runtime'].isnull()]=runtime_m\n",
    "df['gross'][df['gross'].isnull()]=gross_m\n",
    "\n",
    "\n",
    "df.info()"
   ]
  },
  {
   "cell_type": "code",
   "execution_count": 22,
   "metadata": {},
   "outputs": [
    {
     "data": {
      "text/plain": [
       "name        0\n",
       "rating      0\n",
       "genre       0\n",
       "year        0\n",
       "released    0\n",
       "score       0\n",
       "votes       0\n",
       "director    0\n",
       "writer      0\n",
       "star        0\n",
       "country     0\n",
       "budget      0\n",
       "gross       0\n",
       "company     0\n",
       "runtime     0\n",
       "dtype: int64"
      ]
     },
     "execution_count": 22,
     "metadata": {},
     "output_type": "execute_result"
    }
   ],
   "source": [
    "##Verifier que notre dataset est bien nettoyé\n",
    "df.isnull().sum()"
   ]
  },
  {
   "cell_type": "markdown",
   "metadata": {},
   "source": [
    "## visualiser les données"
   ]
  },
  {
   "cell_type": "code",
   "execution_count": 23,
   "metadata": {},
   "outputs": [
    {
     "data": {
      "text/html": [
       "<div>\n",
       "<style scoped>\n",
       "    .dataframe tbody tr th:only-of-type {\n",
       "        vertical-align: middle;\n",
       "    }\n",
       "\n",
       "    .dataframe tbody tr th {\n",
       "        vertical-align: top;\n",
       "    }\n",
       "\n",
       "    .dataframe thead th {\n",
       "        text-align: right;\n",
       "    }\n",
       "</style>\n",
       "<table border=\"1\" class=\"dataframe\">\n",
       "  <thead>\n",
       "    <tr style=\"text-align: right;\">\n",
       "      <th></th>\n",
       "      <th>Count</th>\n",
       "    </tr>\n",
       "  </thead>\n",
       "  <tbody>\n",
       "    <tr>\n",
       "      <th>Drama</th>\n",
       "      <td>1477</td>\n",
       "    </tr>\n",
       "    <tr>\n",
       "      <th>Adventure</th>\n",
       "      <td>426</td>\n",
       "    </tr>\n",
       "    <tr>\n",
       "      <th>Action</th>\n",
       "      <td>1696</td>\n",
       "    </tr>\n",
       "    <tr>\n",
       "      <th>Comedy</th>\n",
       "      <td>2230</td>\n",
       "    </tr>\n",
       "    <tr>\n",
       "      <th>Horror</th>\n",
       "      <td>318</td>\n",
       "    </tr>\n",
       "    <tr>\n",
       "      <th>Biography</th>\n",
       "      <td>439</td>\n",
       "    </tr>\n",
       "    <tr>\n",
       "      <th>Crime</th>\n",
       "      <td>544</td>\n",
       "    </tr>\n",
       "    <tr>\n",
       "      <th>Fantasy</th>\n",
       "      <td>43</td>\n",
       "    </tr>\n",
       "    <tr>\n",
       "      <th>Family</th>\n",
       "      <td>10</td>\n",
       "    </tr>\n",
       "    <tr>\n",
       "      <th>Sci-Fi</th>\n",
       "      <td>9</td>\n",
       "    </tr>\n",
       "    <tr>\n",
       "      <th>Animation</th>\n",
       "      <td>334</td>\n",
       "    </tr>\n",
       "    <tr>\n",
       "      <th>Romance</th>\n",
       "      <td>8</td>\n",
       "    </tr>\n",
       "    <tr>\n",
       "      <th>Music</th>\n",
       "      <td>1</td>\n",
       "    </tr>\n",
       "    <tr>\n",
       "      <th>Western</th>\n",
       "      <td>3</td>\n",
       "    </tr>\n",
       "    <tr>\n",
       "      <th>Thriller</th>\n",
       "      <td>16</td>\n",
       "    </tr>\n",
       "    <tr>\n",
       "      <th>Mystery</th>\n",
       "      <td>20</td>\n",
       "    </tr>\n",
       "    <tr>\n",
       "      <th>Sport</th>\n",
       "      <td>1</td>\n",
       "    </tr>\n",
       "    <tr>\n",
       "      <th>Musical</th>\n",
       "      <td>1</td>\n",
       "    </tr>\n",
       "  </tbody>\n",
       "</table>\n",
       "</div>"
      ],
      "text/plain": [
       "           Count\n",
       "Drama       1477\n",
       "Adventure    426\n",
       "Action      1696\n",
       "Comedy      2230\n",
       "Horror       318\n",
       "Biography    439\n",
       "Crime        544\n",
       "Fantasy       43\n",
       "Family        10\n",
       "Sci-Fi         9\n",
       "Animation    334\n",
       "Romance        8\n",
       "Music          1\n",
       "Western        3\n",
       "Thriller      16\n",
       "Mystery       20\n",
       "Sport          1\n",
       "Musical        1"
      ]
     },
     "execution_count": 23,
     "metadata": {},
     "output_type": "execute_result"
    }
   ],
   "source": [
    "#Compter le nombre de répétition de chaque Genre\n",
    "from collections import Counter\n",
    "genre_raw = df['genre'].to_list()\n",
    "genre_df = pd.DataFrame.from_dict(Counter(genre_raw), orient = 'index').rename(columns = {0:'Count'})\n",
    "genre_df"
   ]
  },
  {
   "cell_type": "code",
   "execution_count": 24,
   "metadata": {},
   "outputs": [
    {
     "data": {
      "application/vnd.plotly.v1+json": {
       "config": {
        "plotlyServerURL": "https://plot.ly"
       },
       "data": [
        {
         "domain": {
          "x": [
           0,
           1
          ],
          "y": [
           0,
           1
          ]
         },
         "hovertemplate": "index=%{label}<br>Count=%{value}<extra></extra>",
         "labels": [
          "Drama",
          "Adventure",
          "Action",
          "Comedy",
          "Horror",
          "Biography",
          "Crime",
          "Fantasy",
          "Family",
          "Sci-Fi",
          "Animation",
          "Romance",
          "Music",
          "Western",
          "Thriller",
          "Mystery",
          "Sport",
          "Musical"
         ],
         "legendgroup": "",
         "name": "",
         "pull": [
          0.05,
          0.05,
          0.05,
          0.05,
          0.05,
          0.05,
          0.05,
          0.05,
          0.05,
          0.05,
          0.05,
          0.05,
          0.05,
          0.05,
          0.05,
          0.05,
          0.05,
          0.05
         ],
         "showlegend": true,
         "textinfo": "label+percent",
         "textposition": "inside",
         "type": "pie",
         "values": [
          1477,
          426,
          1696,
          2230,
          318,
          439,
          544,
          43,
          10,
          9,
          334,
          8,
          1,
          3,
          16,
          20,
          1,
          1
         ]
        }
       ],
       "layout": {
        "font": {
         "color": "black",
         "family": "Courier New, monospace",
         "size": 18
        },
        "legend": {
         "title": {
          "text": "Gender"
         },
         "tracegroupgap": 0
        },
        "margin": {
         "t": 60
        },
        "piecolorway": [
         "rgb(136, 204, 238)",
         "rgb(204, 102, 119)",
         "rgb(221, 204, 119)",
         "rgb(17, 119, 51)",
         "rgb(51, 34, 136)",
         "rgb(170, 68, 153)",
         "rgb(68, 170, 153)",
         "rgb(153, 153, 51)",
         "rgb(136, 34, 85)",
         "rgb(102, 17, 0)",
         "rgb(136, 136, 136)"
        ],
        "template": {
         "data": {
          "bar": [
           {
            "error_x": {
             "color": "#2a3f5f"
            },
            "error_y": {
             "color": "#2a3f5f"
            },
            "marker": {
             "line": {
              "color": "#E5ECF6",
              "width": 0.5
             },
             "pattern": {
              "fillmode": "overlay",
              "size": 10,
              "solidity": 0.2
             }
            },
            "type": "bar"
           }
          ],
          "barpolar": [
           {
            "marker": {
             "line": {
              "color": "#E5ECF6",
              "width": 0.5
             },
             "pattern": {
              "fillmode": "overlay",
              "size": 10,
              "solidity": 0.2
             }
            },
            "type": "barpolar"
           }
          ],
          "carpet": [
           {
            "aaxis": {
             "endlinecolor": "#2a3f5f",
             "gridcolor": "white",
             "linecolor": "white",
             "minorgridcolor": "white",
             "startlinecolor": "#2a3f5f"
            },
            "baxis": {
             "endlinecolor": "#2a3f5f",
             "gridcolor": "white",
             "linecolor": "white",
             "minorgridcolor": "white",
             "startlinecolor": "#2a3f5f"
            },
            "type": "carpet"
           }
          ],
          "choropleth": [
           {
            "colorbar": {
             "outlinewidth": 0,
             "ticks": ""
            },
            "type": "choropleth"
           }
          ],
          "contour": [
           {
            "colorbar": {
             "outlinewidth": 0,
             "ticks": ""
            },
            "colorscale": [
             [
              0,
              "#0d0887"
             ],
             [
              0.1111111111111111,
              "#46039f"
             ],
             [
              0.2222222222222222,
              "#7201a8"
             ],
             [
              0.3333333333333333,
              "#9c179e"
             ],
             [
              0.4444444444444444,
              "#bd3786"
             ],
             [
              0.5555555555555556,
              "#d8576b"
             ],
             [
              0.6666666666666666,
              "#ed7953"
             ],
             [
              0.7777777777777778,
              "#fb9f3a"
             ],
             [
              0.8888888888888888,
              "#fdca26"
             ],
             [
              1,
              "#f0f921"
             ]
            ],
            "type": "contour"
           }
          ],
          "contourcarpet": [
           {
            "colorbar": {
             "outlinewidth": 0,
             "ticks": ""
            },
            "type": "contourcarpet"
           }
          ],
          "heatmap": [
           {
            "colorbar": {
             "outlinewidth": 0,
             "ticks": ""
            },
            "colorscale": [
             [
              0,
              "#0d0887"
             ],
             [
              0.1111111111111111,
              "#46039f"
             ],
             [
              0.2222222222222222,
              "#7201a8"
             ],
             [
              0.3333333333333333,
              "#9c179e"
             ],
             [
              0.4444444444444444,
              "#bd3786"
             ],
             [
              0.5555555555555556,
              "#d8576b"
             ],
             [
              0.6666666666666666,
              "#ed7953"
             ],
             [
              0.7777777777777778,
              "#fb9f3a"
             ],
             [
              0.8888888888888888,
              "#fdca26"
             ],
             [
              1,
              "#f0f921"
             ]
            ],
            "type": "heatmap"
           }
          ],
          "heatmapgl": [
           {
            "colorbar": {
             "outlinewidth": 0,
             "ticks": ""
            },
            "colorscale": [
             [
              0,
              "#0d0887"
             ],
             [
              0.1111111111111111,
              "#46039f"
             ],
             [
              0.2222222222222222,
              "#7201a8"
             ],
             [
              0.3333333333333333,
              "#9c179e"
             ],
             [
              0.4444444444444444,
              "#bd3786"
             ],
             [
              0.5555555555555556,
              "#d8576b"
             ],
             [
              0.6666666666666666,
              "#ed7953"
             ],
             [
              0.7777777777777778,
              "#fb9f3a"
             ],
             [
              0.8888888888888888,
              "#fdca26"
             ],
             [
              1,
              "#f0f921"
             ]
            ],
            "type": "heatmapgl"
           }
          ],
          "histogram": [
           {
            "marker": {
             "pattern": {
              "fillmode": "overlay",
              "size": 10,
              "solidity": 0.2
             }
            },
            "type": "histogram"
           }
          ],
          "histogram2d": [
           {
            "colorbar": {
             "outlinewidth": 0,
             "ticks": ""
            },
            "colorscale": [
             [
              0,
              "#0d0887"
             ],
             [
              0.1111111111111111,
              "#46039f"
             ],
             [
              0.2222222222222222,
              "#7201a8"
             ],
             [
              0.3333333333333333,
              "#9c179e"
             ],
             [
              0.4444444444444444,
              "#bd3786"
             ],
             [
              0.5555555555555556,
              "#d8576b"
             ],
             [
              0.6666666666666666,
              "#ed7953"
             ],
             [
              0.7777777777777778,
              "#fb9f3a"
             ],
             [
              0.8888888888888888,
              "#fdca26"
             ],
             [
              1,
              "#f0f921"
             ]
            ],
            "type": "histogram2d"
           }
          ],
          "histogram2dcontour": [
           {
            "colorbar": {
             "outlinewidth": 0,
             "ticks": ""
            },
            "colorscale": [
             [
              0,
              "#0d0887"
             ],
             [
              0.1111111111111111,
              "#46039f"
             ],
             [
              0.2222222222222222,
              "#7201a8"
             ],
             [
              0.3333333333333333,
              "#9c179e"
             ],
             [
              0.4444444444444444,
              "#bd3786"
             ],
             [
              0.5555555555555556,
              "#d8576b"
             ],
             [
              0.6666666666666666,
              "#ed7953"
             ],
             [
              0.7777777777777778,
              "#fb9f3a"
             ],
             [
              0.8888888888888888,
              "#fdca26"
             ],
             [
              1,
              "#f0f921"
             ]
            ],
            "type": "histogram2dcontour"
           }
          ],
          "mesh3d": [
           {
            "colorbar": {
             "outlinewidth": 0,
             "ticks": ""
            },
            "type": "mesh3d"
           }
          ],
          "parcoords": [
           {
            "line": {
             "colorbar": {
              "outlinewidth": 0,
              "ticks": ""
             }
            },
            "type": "parcoords"
           }
          ],
          "pie": [
           {
            "automargin": true,
            "type": "pie"
           }
          ],
          "scatter": [
           {
            "fillpattern": {
             "fillmode": "overlay",
             "size": 10,
             "solidity": 0.2
            },
            "type": "scatter"
           }
          ],
          "scatter3d": [
           {
            "line": {
             "colorbar": {
              "outlinewidth": 0,
              "ticks": ""
             }
            },
            "marker": {
             "colorbar": {
              "outlinewidth": 0,
              "ticks": ""
             }
            },
            "type": "scatter3d"
           }
          ],
          "scattercarpet": [
           {
            "marker": {
             "colorbar": {
              "outlinewidth": 0,
              "ticks": ""
             }
            },
            "type": "scattercarpet"
           }
          ],
          "scattergeo": [
           {
            "marker": {
             "colorbar": {
              "outlinewidth": 0,
              "ticks": ""
             }
            },
            "type": "scattergeo"
           }
          ],
          "scattergl": [
           {
            "marker": {
             "colorbar": {
              "outlinewidth": 0,
              "ticks": ""
             }
            },
            "type": "scattergl"
           }
          ],
          "scattermapbox": [
           {
            "marker": {
             "colorbar": {
              "outlinewidth": 0,
              "ticks": ""
             }
            },
            "type": "scattermapbox"
           }
          ],
          "scatterpolar": [
           {
            "marker": {
             "colorbar": {
              "outlinewidth": 0,
              "ticks": ""
             }
            },
            "type": "scatterpolar"
           }
          ],
          "scatterpolargl": [
           {
            "marker": {
             "colorbar": {
              "outlinewidth": 0,
              "ticks": ""
             }
            },
            "type": "scatterpolargl"
           }
          ],
          "scatterternary": [
           {
            "marker": {
             "colorbar": {
              "outlinewidth": 0,
              "ticks": ""
             }
            },
            "type": "scatterternary"
           }
          ],
          "surface": [
           {
            "colorbar": {
             "outlinewidth": 0,
             "ticks": ""
            },
            "colorscale": [
             [
              0,
              "#0d0887"
             ],
             [
              0.1111111111111111,
              "#46039f"
             ],
             [
              0.2222222222222222,
              "#7201a8"
             ],
             [
              0.3333333333333333,
              "#9c179e"
             ],
             [
              0.4444444444444444,
              "#bd3786"
             ],
             [
              0.5555555555555556,
              "#d8576b"
             ],
             [
              0.6666666666666666,
              "#ed7953"
             ],
             [
              0.7777777777777778,
              "#fb9f3a"
             ],
             [
              0.8888888888888888,
              "#fdca26"
             ],
             [
              1,
              "#f0f921"
             ]
            ],
            "type": "surface"
           }
          ],
          "table": [
           {
            "cells": {
             "fill": {
              "color": "#EBF0F8"
             },
             "line": {
              "color": "white"
             }
            },
            "header": {
             "fill": {
              "color": "#C8D4E3"
             },
             "line": {
              "color": "white"
             }
            },
            "type": "table"
           }
          ]
         },
         "layout": {
          "annotationdefaults": {
           "arrowcolor": "#2a3f5f",
           "arrowhead": 0,
           "arrowwidth": 1
          },
          "autotypenumbers": "strict",
          "coloraxis": {
           "colorbar": {
            "outlinewidth": 0,
            "ticks": ""
           }
          },
          "colorscale": {
           "diverging": [
            [
             0,
             "#8e0152"
            ],
            [
             0.1,
             "#c51b7d"
            ],
            [
             0.2,
             "#de77ae"
            ],
            [
             0.3,
             "#f1b6da"
            ],
            [
             0.4,
             "#fde0ef"
            ],
            [
             0.5,
             "#f7f7f7"
            ],
            [
             0.6,
             "#e6f5d0"
            ],
            [
             0.7,
             "#b8e186"
            ],
            [
             0.8,
             "#7fbc41"
            ],
            [
             0.9,
             "#4d9221"
            ],
            [
             1,
             "#276419"
            ]
           ],
           "sequential": [
            [
             0,
             "#0d0887"
            ],
            [
             0.1111111111111111,
             "#46039f"
            ],
            [
             0.2222222222222222,
             "#7201a8"
            ],
            [
             0.3333333333333333,
             "#9c179e"
            ],
            [
             0.4444444444444444,
             "#bd3786"
            ],
            [
             0.5555555555555556,
             "#d8576b"
            ],
            [
             0.6666666666666666,
             "#ed7953"
            ],
            [
             0.7777777777777778,
             "#fb9f3a"
            ],
            [
             0.8888888888888888,
             "#fdca26"
            ],
            [
             1,
             "#f0f921"
            ]
           ],
           "sequentialminus": [
            [
             0,
             "#0d0887"
            ],
            [
             0.1111111111111111,
             "#46039f"
            ],
            [
             0.2222222222222222,
             "#7201a8"
            ],
            [
             0.3333333333333333,
             "#9c179e"
            ],
            [
             0.4444444444444444,
             "#bd3786"
            ],
            [
             0.5555555555555556,
             "#d8576b"
            ],
            [
             0.6666666666666666,
             "#ed7953"
            ],
            [
             0.7777777777777778,
             "#fb9f3a"
            ],
            [
             0.8888888888888888,
             "#fdca26"
            ],
            [
             1,
             "#f0f921"
            ]
           ]
          },
          "colorway": [
           "#636efa",
           "#EF553B",
           "#00cc96",
           "#ab63fa",
           "#FFA15A",
           "#19d3f3",
           "#FF6692",
           "#B6E880",
           "#FF97FF",
           "#FECB52"
          ],
          "font": {
           "color": "#2a3f5f"
          },
          "geo": {
           "bgcolor": "white",
           "lakecolor": "white",
           "landcolor": "#E5ECF6",
           "showlakes": true,
           "showland": true,
           "subunitcolor": "white"
          },
          "hoverlabel": {
           "align": "left"
          },
          "hovermode": "closest",
          "mapbox": {
           "style": "light"
          },
          "paper_bgcolor": "white",
          "plot_bgcolor": "#E5ECF6",
          "polar": {
           "angularaxis": {
            "gridcolor": "white",
            "linecolor": "white",
            "ticks": ""
           },
           "bgcolor": "#E5ECF6",
           "radialaxis": {
            "gridcolor": "white",
            "linecolor": "white",
            "ticks": ""
           }
          },
          "scene": {
           "xaxis": {
            "backgroundcolor": "#E5ECF6",
            "gridcolor": "white",
            "gridwidth": 2,
            "linecolor": "white",
            "showbackground": true,
            "ticks": "",
            "zerolinecolor": "white"
           },
           "yaxis": {
            "backgroundcolor": "#E5ECF6",
            "gridcolor": "white",
            "gridwidth": 2,
            "linecolor": "white",
            "showbackground": true,
            "ticks": "",
            "zerolinecolor": "white"
           },
           "zaxis": {
            "backgroundcolor": "#E5ECF6",
            "gridcolor": "white",
            "gridwidth": 2,
            "linecolor": "white",
            "showbackground": true,
            "ticks": "",
            "zerolinecolor": "white"
           }
          },
          "shapedefaults": {
           "line": {
            "color": "#2a3f5f"
           }
          },
          "ternary": {
           "aaxis": {
            "gridcolor": "white",
            "linecolor": "white",
            "ticks": ""
           },
           "baxis": {
            "gridcolor": "white",
            "linecolor": "white",
            "ticks": ""
           },
           "bgcolor": "#E5ECF6",
           "caxis": {
            "gridcolor": "white",
            "linecolor": "white",
            "ticks": ""
           }
          },
          "title": {
           "x": 0.05
          },
          "xaxis": {
           "automargin": true,
           "gridcolor": "white",
           "linecolor": "white",
           "ticks": "",
           "title": {
            "standoff": 15
           },
           "zerolinecolor": "white",
           "zerolinewidth": 2
          },
          "yaxis": {
           "automargin": true,
           "gridcolor": "white",
           "linecolor": "white",
           "ticks": "",
           "title": {
            "standoff": 15
           },
           "zerolinecolor": "white",
           "zerolinewidth": 2
          }
         }
        },
        "title": {
         "text": "Distribution des genres"
        },
        "uniformtext": {
         "minsize": 13,
         "mode": "hide"
        }
       }
      },
      "text/html": [
       "<div>                            <div id=\"223b58aa-f05b-43d8-9ff0-848fe677cb72\" class=\"plotly-graph-div\" style=\"height:525px; width:100%;\"></div>            <script type=\"text/javascript\">                require([\"plotly\"], function(Plotly) {                    window.PLOTLYENV=window.PLOTLYENV || {};                                    if (document.getElementById(\"223b58aa-f05b-43d8-9ff0-848fe677cb72\")) {                    Plotly.newPlot(                        \"223b58aa-f05b-43d8-9ff0-848fe677cb72\",                        [{\"domain\":{\"x\":[0.0,1.0],\"y\":[0.0,1.0]},\"hovertemplate\":\"index=%{label}<br>Count=%{value}<extra></extra>\",\"labels\":[\"Drama\",\"Adventure\",\"Action\",\"Comedy\",\"Horror\",\"Biography\",\"Crime\",\"Fantasy\",\"Family\",\"Sci-Fi\",\"Animation\",\"Romance\",\"Music\",\"Western\",\"Thriller\",\"Mystery\",\"Sport\",\"Musical\"],\"legendgroup\":\"\",\"name\":\"\",\"showlegend\":true,\"values\":[1477,426,1696,2230,318,439,544,43,10,9,334,8,1,3,16,20,1,1],\"type\":\"pie\",\"pull\":[0.05,0.05,0.05,0.05,0.05,0.05,0.05,0.05,0.05,0.05,0.05,0.05,0.05,0.05,0.05,0.05,0.05,0.05],\"textinfo\":\"label+percent\",\"textposition\":\"inside\"}],                        {\"template\":{\"data\":{\"histogram2dcontour\":[{\"type\":\"histogram2dcontour\",\"colorbar\":{\"outlinewidth\":0,\"ticks\":\"\"},\"colorscale\":[[0.0,\"#0d0887\"],[0.1111111111111111,\"#46039f\"],[0.2222222222222222,\"#7201a8\"],[0.3333333333333333,\"#9c179e\"],[0.4444444444444444,\"#bd3786\"],[0.5555555555555556,\"#d8576b\"],[0.6666666666666666,\"#ed7953\"],[0.7777777777777778,\"#fb9f3a\"],[0.8888888888888888,\"#fdca26\"],[1.0,\"#f0f921\"]]}],\"choropleth\":[{\"type\":\"choropleth\",\"colorbar\":{\"outlinewidth\":0,\"ticks\":\"\"}}],\"histogram2d\":[{\"type\":\"histogram2d\",\"colorbar\":{\"outlinewidth\":0,\"ticks\":\"\"},\"colorscale\":[[0.0,\"#0d0887\"],[0.1111111111111111,\"#46039f\"],[0.2222222222222222,\"#7201a8\"],[0.3333333333333333,\"#9c179e\"],[0.4444444444444444,\"#bd3786\"],[0.5555555555555556,\"#d8576b\"],[0.6666666666666666,\"#ed7953\"],[0.7777777777777778,\"#fb9f3a\"],[0.8888888888888888,\"#fdca26\"],[1.0,\"#f0f921\"]]}],\"heatmap\":[{\"type\":\"heatmap\",\"colorbar\":{\"outlinewidth\":0,\"ticks\":\"\"},\"colorscale\":[[0.0,\"#0d0887\"],[0.1111111111111111,\"#46039f\"],[0.2222222222222222,\"#7201a8\"],[0.3333333333333333,\"#9c179e\"],[0.4444444444444444,\"#bd3786\"],[0.5555555555555556,\"#d8576b\"],[0.6666666666666666,\"#ed7953\"],[0.7777777777777778,\"#fb9f3a\"],[0.8888888888888888,\"#fdca26\"],[1.0,\"#f0f921\"]]}],\"heatmapgl\":[{\"type\":\"heatmapgl\",\"colorbar\":{\"outlinewidth\":0,\"ticks\":\"\"},\"colorscale\":[[0.0,\"#0d0887\"],[0.1111111111111111,\"#46039f\"],[0.2222222222222222,\"#7201a8\"],[0.3333333333333333,\"#9c179e\"],[0.4444444444444444,\"#bd3786\"],[0.5555555555555556,\"#d8576b\"],[0.6666666666666666,\"#ed7953\"],[0.7777777777777778,\"#fb9f3a\"],[0.8888888888888888,\"#fdca26\"],[1.0,\"#f0f921\"]]}],\"contourcarpet\":[{\"type\":\"contourcarpet\",\"colorbar\":{\"outlinewidth\":0,\"ticks\":\"\"}}],\"contour\":[{\"type\":\"contour\",\"colorbar\":{\"outlinewidth\":0,\"ticks\":\"\"},\"colorscale\":[[0.0,\"#0d0887\"],[0.1111111111111111,\"#46039f\"],[0.2222222222222222,\"#7201a8\"],[0.3333333333333333,\"#9c179e\"],[0.4444444444444444,\"#bd3786\"],[0.5555555555555556,\"#d8576b\"],[0.6666666666666666,\"#ed7953\"],[0.7777777777777778,\"#fb9f3a\"],[0.8888888888888888,\"#fdca26\"],[1.0,\"#f0f921\"]]}],\"surface\":[{\"type\":\"surface\",\"colorbar\":{\"outlinewidth\":0,\"ticks\":\"\"},\"colorscale\":[[0.0,\"#0d0887\"],[0.1111111111111111,\"#46039f\"],[0.2222222222222222,\"#7201a8\"],[0.3333333333333333,\"#9c179e\"],[0.4444444444444444,\"#bd3786\"],[0.5555555555555556,\"#d8576b\"],[0.6666666666666666,\"#ed7953\"],[0.7777777777777778,\"#fb9f3a\"],[0.8888888888888888,\"#fdca26\"],[1.0,\"#f0f921\"]]}],\"mesh3d\":[{\"type\":\"mesh3d\",\"colorbar\":{\"outlinewidth\":0,\"ticks\":\"\"}}],\"scatter\":[{\"fillpattern\":{\"fillmode\":\"overlay\",\"size\":10,\"solidity\":0.2},\"type\":\"scatter\"}],\"parcoords\":[{\"type\":\"parcoords\",\"line\":{\"colorbar\":{\"outlinewidth\":0,\"ticks\":\"\"}}}],\"scatterpolargl\":[{\"type\":\"scatterpolargl\",\"marker\":{\"colorbar\":{\"outlinewidth\":0,\"ticks\":\"\"}}}],\"bar\":[{\"error_x\":{\"color\":\"#2a3f5f\"},\"error_y\":{\"color\":\"#2a3f5f\"},\"marker\":{\"line\":{\"color\":\"#E5ECF6\",\"width\":0.5},\"pattern\":{\"fillmode\":\"overlay\",\"size\":10,\"solidity\":0.2}},\"type\":\"bar\"}],\"scattergeo\":[{\"type\":\"scattergeo\",\"marker\":{\"colorbar\":{\"outlinewidth\":0,\"ticks\":\"\"}}}],\"scatterpolar\":[{\"type\":\"scatterpolar\",\"marker\":{\"colorbar\":{\"outlinewidth\":0,\"ticks\":\"\"}}}],\"histogram\":[{\"marker\":{\"pattern\":{\"fillmode\":\"overlay\",\"size\":10,\"solidity\":0.2}},\"type\":\"histogram\"}],\"scattergl\":[{\"type\":\"scattergl\",\"marker\":{\"colorbar\":{\"outlinewidth\":0,\"ticks\":\"\"}}}],\"scatter3d\":[{\"type\":\"scatter3d\",\"line\":{\"colorbar\":{\"outlinewidth\":0,\"ticks\":\"\"}},\"marker\":{\"colorbar\":{\"outlinewidth\":0,\"ticks\":\"\"}}}],\"scattermapbox\":[{\"type\":\"scattermapbox\",\"marker\":{\"colorbar\":{\"outlinewidth\":0,\"ticks\":\"\"}}}],\"scatterternary\":[{\"type\":\"scatterternary\",\"marker\":{\"colorbar\":{\"outlinewidth\":0,\"ticks\":\"\"}}}],\"scattercarpet\":[{\"type\":\"scattercarpet\",\"marker\":{\"colorbar\":{\"outlinewidth\":0,\"ticks\":\"\"}}}],\"carpet\":[{\"aaxis\":{\"endlinecolor\":\"#2a3f5f\",\"gridcolor\":\"white\",\"linecolor\":\"white\",\"minorgridcolor\":\"white\",\"startlinecolor\":\"#2a3f5f\"},\"baxis\":{\"endlinecolor\":\"#2a3f5f\",\"gridcolor\":\"white\",\"linecolor\":\"white\",\"minorgridcolor\":\"white\",\"startlinecolor\":\"#2a3f5f\"},\"type\":\"carpet\"}],\"table\":[{\"cells\":{\"fill\":{\"color\":\"#EBF0F8\"},\"line\":{\"color\":\"white\"}},\"header\":{\"fill\":{\"color\":\"#C8D4E3\"},\"line\":{\"color\":\"white\"}},\"type\":\"table\"}],\"barpolar\":[{\"marker\":{\"line\":{\"color\":\"#E5ECF6\",\"width\":0.5},\"pattern\":{\"fillmode\":\"overlay\",\"size\":10,\"solidity\":0.2}},\"type\":\"barpolar\"}],\"pie\":[{\"automargin\":true,\"type\":\"pie\"}]},\"layout\":{\"autotypenumbers\":\"strict\",\"colorway\":[\"#636efa\",\"#EF553B\",\"#00cc96\",\"#ab63fa\",\"#FFA15A\",\"#19d3f3\",\"#FF6692\",\"#B6E880\",\"#FF97FF\",\"#FECB52\"],\"font\":{\"color\":\"#2a3f5f\"},\"hovermode\":\"closest\",\"hoverlabel\":{\"align\":\"left\"},\"paper_bgcolor\":\"white\",\"plot_bgcolor\":\"#E5ECF6\",\"polar\":{\"bgcolor\":\"#E5ECF6\",\"angularaxis\":{\"gridcolor\":\"white\",\"linecolor\":\"white\",\"ticks\":\"\"},\"radialaxis\":{\"gridcolor\":\"white\",\"linecolor\":\"white\",\"ticks\":\"\"}},\"ternary\":{\"bgcolor\":\"#E5ECF6\",\"aaxis\":{\"gridcolor\":\"white\",\"linecolor\":\"white\",\"ticks\":\"\"},\"baxis\":{\"gridcolor\":\"white\",\"linecolor\":\"white\",\"ticks\":\"\"},\"caxis\":{\"gridcolor\":\"white\",\"linecolor\":\"white\",\"ticks\":\"\"}},\"coloraxis\":{\"colorbar\":{\"outlinewidth\":0,\"ticks\":\"\"}},\"colorscale\":{\"sequential\":[[0.0,\"#0d0887\"],[0.1111111111111111,\"#46039f\"],[0.2222222222222222,\"#7201a8\"],[0.3333333333333333,\"#9c179e\"],[0.4444444444444444,\"#bd3786\"],[0.5555555555555556,\"#d8576b\"],[0.6666666666666666,\"#ed7953\"],[0.7777777777777778,\"#fb9f3a\"],[0.8888888888888888,\"#fdca26\"],[1.0,\"#f0f921\"]],\"sequentialminus\":[[0.0,\"#0d0887\"],[0.1111111111111111,\"#46039f\"],[0.2222222222222222,\"#7201a8\"],[0.3333333333333333,\"#9c179e\"],[0.4444444444444444,\"#bd3786\"],[0.5555555555555556,\"#d8576b\"],[0.6666666666666666,\"#ed7953\"],[0.7777777777777778,\"#fb9f3a\"],[0.8888888888888888,\"#fdca26\"],[1.0,\"#f0f921\"]],\"diverging\":[[0,\"#8e0152\"],[0.1,\"#c51b7d\"],[0.2,\"#de77ae\"],[0.3,\"#f1b6da\"],[0.4,\"#fde0ef\"],[0.5,\"#f7f7f7\"],[0.6,\"#e6f5d0\"],[0.7,\"#b8e186\"],[0.8,\"#7fbc41\"],[0.9,\"#4d9221\"],[1,\"#276419\"]]},\"xaxis\":{\"gridcolor\":\"white\",\"linecolor\":\"white\",\"ticks\":\"\",\"title\":{\"standoff\":15},\"zerolinecolor\":\"white\",\"automargin\":true,\"zerolinewidth\":2},\"yaxis\":{\"gridcolor\":\"white\",\"linecolor\":\"white\",\"ticks\":\"\",\"title\":{\"standoff\":15},\"zerolinecolor\":\"white\",\"automargin\":true,\"zerolinewidth\":2},\"scene\":{\"xaxis\":{\"backgroundcolor\":\"#E5ECF6\",\"gridcolor\":\"white\",\"linecolor\":\"white\",\"showbackground\":true,\"ticks\":\"\",\"zerolinecolor\":\"white\",\"gridwidth\":2},\"yaxis\":{\"backgroundcolor\":\"#E5ECF6\",\"gridcolor\":\"white\",\"linecolor\":\"white\",\"showbackground\":true,\"ticks\":\"\",\"zerolinecolor\":\"white\",\"gridwidth\":2},\"zaxis\":{\"backgroundcolor\":\"#E5ECF6\",\"gridcolor\":\"white\",\"linecolor\":\"white\",\"showbackground\":true,\"ticks\":\"\",\"zerolinecolor\":\"white\",\"gridwidth\":2}},\"shapedefaults\":{\"line\":{\"color\":\"#2a3f5f\"}},\"annotationdefaults\":{\"arrowcolor\":\"#2a3f5f\",\"arrowhead\":0,\"arrowwidth\":1},\"geo\":{\"bgcolor\":\"white\",\"landcolor\":\"#E5ECF6\",\"subunitcolor\":\"white\",\"showland\":true,\"showlakes\":true,\"lakecolor\":\"white\"},\"title\":{\"x\":0.05},\"mapbox\":{\"style\":\"light\"}}},\"legend\":{\"tracegroupgap\":0,\"title\":{\"text\":\"Gender\"}},\"margin\":{\"t\":60},\"piecolorway\":[\"rgb(136, 204, 238)\",\"rgb(204, 102, 119)\",\"rgb(221, 204, 119)\",\"rgb(17, 119, 51)\",\"rgb(51, 34, 136)\",\"rgb(170, 68, 153)\",\"rgb(68, 170, 153)\",\"rgb(153, 153, 51)\",\"rgb(136, 34, 85)\",\"rgb(102, 17, 0)\",\"rgb(136, 136, 136)\"],\"title\":{\"text\":\"Distribution des genres\"},\"uniformtext\":{\"minsize\":13,\"mode\":\"hide\"},\"font\":{\"family\":\"Courier New, monospace\",\"size\":18,\"color\":\"black\"}},                        {\"responsive\": true}                    ).then(function(){\n",
       "                            \n",
       "var gd = document.getElementById('223b58aa-f05b-43d8-9ff0-848fe677cb72');\n",
       "var x = new MutationObserver(function (mutations, observer) {{\n",
       "        var display = window.getComputedStyle(gd).display;\n",
       "        if (!display || display === 'none') {{\n",
       "            console.log([gd, 'removed!']);\n",
       "            Plotly.purge(gd);\n",
       "            observer.disconnect();\n",
       "        }}\n",
       "}});\n",
       "\n",
       "// Listen for the removal of the full notebook cells\n",
       "var notebookContainer = gd.closest('#notebook-container');\n",
       "if (notebookContainer) {{\n",
       "    x.observe(notebookContainer, {childList: true});\n",
       "}}\n",
       "\n",
       "// Listen for the clearing of the current output cell\n",
       "var outputEl = gd.closest('.output');\n",
       "if (outputEl) {{\n",
       "    x.observe(outputEl, {childList: true});\n",
       "}}\n",
       "\n",
       "                        })                };                });            </script>        </div>"
      ]
     },
     "metadata": {},
     "output_type": "display_data"
    }
   ],
   "source": [
    "##Afficher la distribution des genres \n",
    "##les trois genres de films les plus produits sont comdey , action , drama\n",
    "import plotly.express as px\n",
    "\n",
    "fig = px.pie(data_frame = genre_df,\n",
    "             values = 'Count',\n",
    "             names = genre_df.index,\n",
    "             color_discrete_sequence = px.colors.qualitative.Safe)\n",
    "\n",
    "fig.update_traces(textposition = 'inside',\n",
    "                  textinfo = 'label+percent',\n",
    "                  pull = [0.05] * len(genre_df.index.to_list()))\n",
    "\n",
    "fig.update_layout(title = {'text':'Distribution des genres'},\n",
    "                  legend_title = 'Gender',\n",
    "                  uniformtext_minsize=13,\n",
    "                  uniformtext_mode='hide',\n",
    "                  font = dict(\n",
    "                      family = \"Courier New, monospace\",\n",
    "                      size = 18,\n",
    "                      color = 'black'\n",
    "                  ))\n",
    "\n",
    "\n",
    "fig.show()"
   ]
  },
  {
   "cell_type": "code",
   "execution_count": 25,
   "metadata": {},
   "outputs": [
    {
     "data": {
      "image/png": "[encoded data removed]",
      "text/plain": [
       "<Figure size 640x480 with 1 Axes>"
      ]
     },
     "metadata": {},
     "output_type": "display_data"
    }
   ],
   "source": [
    "plt.bar(df['year'].unique(),df['year'].value_counts())\n",
    "plt.xticks(rotation=90)\n",
    "plt.xlabel('years')\n",
    "plt.ylabel('count')\n",
    "plt.show()\n",
    "##Afficher le nombre des films par rapport les années de production"
   ]
  },
  {
   "cell_type": "code",
   "execution_count": 26,
   "metadata": {
    "scrolled": true
   },
   "outputs": [
    {
     "data": {
      "text/plain": [
       "year\n",
       "1980    1.471850e+09\n",
       "1981    1.633450e+09\n",
       "1982    1.907670e+09\n",
       "1983    2.006552e+09\n",
       "1984    2.711105e+09\n",
       "1985    3.320510e+09\n",
       "1986    3.259787e+09\n",
       "1987    3.272543e+09\n",
       "1988    3.116540e+09\n",
       "1989    3.414763e+09\n",
       "1990    3.836503e+09\n",
       "1991    4.009248e+09\n",
       "1992    3.992378e+09\n",
       "1993    3.844450e+09\n",
       "1994    4.741455e+09\n",
       "1995    4.804834e+09\n",
       "1996    5.299580e+09\n",
       "1997    6.259945e+09\n",
       "1998    6.509766e+09\n",
       "1999    7.412940e+09\n",
       "2000    7.044250e+09\n",
       "2001    7.133900e+09\n",
       "2002    6.902629e+09\n",
       "2003    7.396430e+09\n",
       "2004    7.858327e+09\n",
       "2005    7.819494e+09\n",
       "2006    7.912700e+09\n",
       "2007    7.947510e+09\n",
       "2008    8.074730e+09\n",
       "2009    8.131500e+09\n",
       "2010    8.345750e+09\n",
       "2011    8.708730e+09\n",
       "2012    8.554295e+09\n",
       "2013    8.920670e+09\n",
       "2014    8.231300e+09\n",
       "2015    8.169126e+09\n",
       "2016    9.646000e+09\n",
       "2017    8.795700e+09\n",
       "2018    8.188980e+09\n",
       "2019    8.063050e+09\n",
       "2020    9.675050e+08\n",
       "Name: budget, dtype: float64"
      ]
     },
     "execution_count": 26,
     "metadata": {},
     "output_type": "execute_result"
    }
   ],
   "source": [
    "result=df.groupby('year').sum()\n",
    "result['budget']"
   ]
  },
  {
   "cell_type": "code",
   "execution_count": 27,
   "metadata": {},
   "outputs": [
    {
     "data": {
      "image/png": "[encoded data removed]",
      "text/plain": [
       "<Figure size 640x480 with 1 Axes>"
      ]
     },
     "metadata": {},
     "output_type": "display_data"
    }
   ],
   "source": [
    "years = [year for year , df in df.groupby('year')]\n",
    "plt.bar(years,result['budget'])\n",
    "plt.xticks(rotation=90)\n",
    "plt.xlabel('years')\n",
    "plt.ylabel('budget')\n",
    "plt.show()\n",
    "\n",
    "##Affichage d'augmentation de budget par rapport aux années de producions\n",
    "##Nous remarquons que 2016 est l'années avec le budget le plus élevé"
   ]
  },
  {
   "cell_type": "code",
   "execution_count": 28,
   "metadata": {
    "scrolled": true
   },
   "outputs": [
    {
     "data": {
      "text/html": [
       "<div>\n",
       "<style scoped>\n",
       "    .dataframe tbody tr th:only-of-type {\n",
       "        vertical-align: middle;\n",
       "    }\n",
       "\n",
       "    .dataframe tbody tr th {\n",
       "        vertical-align: top;\n",
       "    }\n",
       "\n",
       "    .dataframe thead th {\n",
       "        text-align: right;\n",
       "    }\n",
       "</style>\n",
       "<table border=\"1\" class=\"dataframe\">\n",
       "  <thead>\n",
       "    <tr style=\"text-align: right;\">\n",
       "      <th></th>\n",
       "      <th>year</th>\n",
       "      <th>score</th>\n",
       "      <th>votes</th>\n",
       "      <th>budget</th>\n",
       "      <th>gross</th>\n",
       "      <th>runtime</th>\n",
       "    </tr>\n",
       "    <tr>\n",
       "      <th>genre</th>\n",
       "      <th></th>\n",
       "      <th></th>\n",
       "      <th></th>\n",
       "      <th></th>\n",
       "      <th></th>\n",
       "      <th></th>\n",
       "    </tr>\n",
       "  </thead>\n",
       "  <tbody>\n",
       "    <tr>\n",
       "      <th>Action</th>\n",
       "      <td>3395321</td>\n",
       "      <td>10522.6</td>\n",
       "      <td>239483657.0</td>\n",
       "      <td>8.857631e+10</td>\n",
       "      <td>2.435913e+11</td>\n",
       "      <td>186998.0</td>\n",
       "    </tr>\n",
       "    <tr>\n",
       "      <th>Adventure</th>\n",
       "      <td>851826</td>\n",
       "      <td>2678.2</td>\n",
       "      <td>43121242.0</td>\n",
       "      <td>1.707506e+10</td>\n",
       "      <td>4.604805e+10</td>\n",
       "      <td>45958.0</td>\n",
       "    </tr>\n",
       "    <tr>\n",
       "      <th>Animation</th>\n",
       "      <td>669725</td>\n",
       "      <td>2257.4</td>\n",
       "      <td>42888158.0</td>\n",
       "      <td>2.231907e+10</td>\n",
       "      <td>7.995033e+10</td>\n",
       "      <td>30742.0</td>\n",
       "    </tr>\n",
       "    <tr>\n",
       "      <th>Biography</th>\n",
       "      <td>879722</td>\n",
       "      <td>3088.8</td>\n",
       "      <td>40044548.0</td>\n",
       "      <td>1.059816e+10</td>\n",
       "      <td>2.093002e+10</td>\n",
       "      <td>52681.0</td>\n",
       "    </tr>\n",
       "    <tr>\n",
       "      <th>Comedy</th>\n",
       "      <td>4456440</td>\n",
       "      <td>13809.5</td>\n",
       "      <td>121779317.0</td>\n",
       "      <td>4.927628e+10</td>\n",
       "      <td>9.813751e+10</td>\n",
       "      <td>226300.0</td>\n",
       "    </tr>\n",
       "    <tr>\n",
       "      <th>Crime</th>\n",
       "      <td>1087861</td>\n",
       "      <td>3630.4</td>\n",
       "      <td>49910440.0</td>\n",
       "      <td>1.198724e+10</td>\n",
       "      <td>2.147808e+10</td>\n",
       "      <td>60832.0</td>\n",
       "    </tr>\n",
       "    <tr>\n",
       "      <th>Drama</th>\n",
       "      <td>2954516</td>\n",
       "      <td>9888.9</td>\n",
       "      <td>105100945.0</td>\n",
       "      <td>3.281657e+10</td>\n",
       "      <td>5.714296e+10</td>\n",
       "      <td>167087.0</td>\n",
       "    </tr>\n",
       "    <tr>\n",
       "      <th>Family</th>\n",
       "      <td>19920</td>\n",
       "      <td>65.4</td>\n",
       "      <td>753400.0</td>\n",
       "      <td>3.305000e+08</td>\n",
       "      <td>2.157876e+09</td>\n",
       "      <td>1008.0</td>\n",
       "    </tr>\n",
       "    <tr>\n",
       "      <th>Fantasy</th>\n",
       "      <td>85833</td>\n",
       "      <td>260.1</td>\n",
       "      <td>2558900.0</td>\n",
       "      <td>7.482000e+08</td>\n",
       "      <td>1.668986e+09</td>\n",
       "      <td>4285.0</td>\n",
       "    </tr>\n",
       "    <tr>\n",
       "      <th>Horror</th>\n",
       "      <td>635962</td>\n",
       "      <td>1829.1</td>\n",
       "      <td>21888415.0</td>\n",
       "      <td>4.576842e+09</td>\n",
       "      <td>1.482825e+10</td>\n",
       "      <td>30632.0</td>\n",
       "    </tr>\n",
       "    <tr>\n",
       "      <th>Music</th>\n",
       "      <td>1981</td>\n",
       "      <td>7.2</td>\n",
       "      <td>12000.0</td>\n",
       "      <td>2.100000e+07</td>\n",
       "      <td>1.100140e+05</td>\n",
       "      <td>117.0</td>\n",
       "    </tr>\n",
       "    <tr>\n",
       "      <th>Musical</th>\n",
       "      <td>2019</td>\n",
       "      <td>7.9</td>\n",
       "      <td>321.0</td>\n",
       "      <td>2.100000e+07</td>\n",
       "      <td>2.217255e+06</td>\n",
       "      <td>155.0</td>\n",
       "    </tr>\n",
       "    <tr>\n",
       "      <th>Mystery</th>\n",
       "      <td>39982</td>\n",
       "      <td>133.3</td>\n",
       "      <td>4602515.0</td>\n",
       "      <td>6.049000e+08</td>\n",
       "      <td>2.023671e+09</td>\n",
       "      <td>2315.0</td>\n",
       "    </tr>\n",
       "    <tr>\n",
       "      <th>Romance</th>\n",
       "      <td>15975</td>\n",
       "      <td>52.0</td>\n",
       "      <td>356774.0</td>\n",
       "      <td>1.832000e+08</td>\n",
       "      <td>1.883950e+08</td>\n",
       "      <td>856.0</td>\n",
       "    </tr>\n",
       "    <tr>\n",
       "      <th>Sci-Fi</th>\n",
       "      <td>17928</td>\n",
       "      <td>56.4</td>\n",
       "      <td>884765.0</td>\n",
       "      <td>1.995000e+08</td>\n",
       "      <td>2.809093e+08</td>\n",
       "      <td>918.0</td>\n",
       "    </tr>\n",
       "    <tr>\n",
       "      <th>Sport</th>\n",
       "      <td>2019</td>\n",
       "      <td>5.9</td>\n",
       "      <td>691.0</td>\n",
       "      <td>2.100000e+07</td>\n",
       "      <td>1.067629e+06</td>\n",
       "      <td>94.0</td>\n",
       "    </tr>\n",
       "    <tr>\n",
       "      <th>Thriller</th>\n",
       "      <td>31902</td>\n",
       "      <td>94.6</td>\n",
       "      <td>318891.0</td>\n",
       "      <td>2.416000e+08</td>\n",
       "      <td>4.049009e+08</td>\n",
       "      <td>1578.0</td>\n",
       "    </tr>\n",
       "    <tr>\n",
       "      <th>Western</th>\n",
       "      <td>5956</td>\n",
       "      <td>17.0</td>\n",
       "      <td>6199.0</td>\n",
       "      <td>4.200000e+07</td>\n",
       "      <td>3.202589e+07</td>\n",
       "      <td>292.0</td>\n",
       "    </tr>\n",
       "  </tbody>\n",
       "</table>\n",
       "</div>"
      ],
      "text/plain": [
       "              year    score        votes        budget         gross   runtime\n",
       "genre                                                                         \n",
       "Action     3395321  10522.6  239483657.0  8.857631e+10  2.435913e+11  186998.0\n",
       "Adventure   851826   2678.2   43121242.0  1.707506e+10  4.604805e+10   45958.0\n",
       "Animation   669725   2257.4   42888158.0  2.231907e+10  7.995033e+10   30742.0\n",
       "Biography   879722   3088.8   40044548.0  1.059816e+10  2.093002e+10   52681.0\n",
       "Comedy     4456440  13809.5  121779317.0  4.927628e+10  9.813751e+10  226300.0\n",
       "Crime      1087861   3630.4   49910440.0  1.198724e+10  2.147808e+10   60832.0\n",
       "Drama      2954516   9888.9  105100945.0  3.281657e+10  5.714296e+10  167087.0\n",
       "Family       19920     65.4     753400.0  3.305000e+08  2.157876e+09    1008.0\n",
       "Fantasy      85833    260.1    2558900.0  7.482000e+08  1.668986e+09    4285.0\n",
       "Horror      635962   1829.1   21888415.0  4.576842e+09  1.482825e+10   30632.0\n",
       "Music         1981      7.2      12000.0  2.100000e+07  1.100140e+05     117.0\n",
       "Musical       2019      7.9        321.0  2.100000e+07  2.217255e+06     155.0\n",
       "Mystery      39982    133.3    4602515.0  6.049000e+08  2.023671e+09    2315.0\n",
       "Romance      15975     52.0     356774.0  1.832000e+08  1.883950e+08     856.0\n",
       "Sci-Fi       17928     56.4     884765.0  1.995000e+08  2.809093e+08     918.0\n",
       "Sport         2019      5.9        691.0  2.100000e+07  1.067629e+06      94.0\n",
       "Thriller     31902     94.6     318891.0  2.416000e+08  4.049009e+08    1578.0\n",
       "Western       5956     17.0       6199.0  4.200000e+07  3.202589e+07     292.0"
      ]
     },
     "execution_count": 28,
     "metadata": {},
     "output_type": "execute_result"
    }
   ],
   "source": [
    "res=df.groupby('genre').sum()\n",
    "res"
   ]
  },
  {
   "cell_type": "code",
   "execution_count": 29,
   "metadata": {},
   "outputs": [
    {
     "data": {
      "image/png": "[encoded data removed]",
      "text/plain": [
       "<Figure size 640x480 with 1 Axes>"
      ]
     },
     "metadata": {},
     "output_type": "display_data"
    }
   ],
   "source": [
    "genre = [genre for genre , df in df.groupby('genre')]\n",
    "plt.bar(genre,res['budget'])\n",
    "plt.xticks(rotation=90)\n",
    "plt.xlabel('Genre')\n",
    "plt.ylabel('budget')\n",
    "plt.show()\n",
    "##budget par rapport au genre \n",
    "##nous remarquons que le budget d'un film action est très élevé par rapport au autres genres "
   ]
  },
  {
   "cell_type": "code",
   "execution_count": 30,
   "metadata": {},
   "outputs": [
    {
     "data": {
      "image/png": "[encoded data removed]",
      "text/plain": [
       "<Figure size 640x480 with 1 Axes>"
      ]
     },
     "metadata": {},
     "output_type": "display_data"
    }
   ],
   "source": [
    "plt.bar(df['genre'],df['score'])\n",
    "plt.xticks(rotation=90)\n",
    "plt.xlabel('genre')\n",
    "plt.ylabel('score')\n",
    "plt.show()"
   ]
  },
  {
   "cell_type": "code",
   "execution_count": 31,
   "metadata": {},
   "outputs": [
    {
     "data": {
      "text/html": [
       "<div>\n",
       "<style scoped>\n",
       "    .dataframe tbody tr th:only-of-type {\n",
       "        vertical-align: middle;\n",
       "    }\n",
       "\n",
       "    .dataframe tbody tr th {\n",
       "        vertical-align: top;\n",
       "    }\n",
       "\n",
       "    .dataframe thead th {\n",
       "        text-align: right;\n",
       "    }\n",
       "</style>\n",
       "<table border=\"1\" class=\"dataframe\">\n",
       "  <thead>\n",
       "    <tr style=\"text-align: right;\">\n",
       "      <th></th>\n",
       "      <th>name</th>\n",
       "      <th>rating</th>\n",
       "      <th>genre</th>\n",
       "      <th>year</th>\n",
       "      <th>released</th>\n",
       "      <th>score</th>\n",
       "      <th>votes</th>\n",
       "      <th>director</th>\n",
       "      <th>writer</th>\n",
       "      <th>star</th>\n",
       "      <th>country</th>\n",
       "      <th>budget</th>\n",
       "      <th>gross</th>\n",
       "      <th>company</th>\n",
       "      <th>runtime</th>\n",
       "    </tr>\n",
       "  </thead>\n",
       "  <tbody>\n",
       "    <tr>\n",
       "      <th>0</th>\n",
       "      <td>The Shining</td>\n",
       "      <td>6.0</td>\n",
       "      <td>6.0</td>\n",
       "      <td>1980</td>\n",
       "      <td>June 13, 1980 (United States)</td>\n",
       "      <td>8.4</td>\n",
       "      <td>927000.0</td>\n",
       "      <td>2545.0</td>\n",
       "      <td>3960.0</td>\n",
       "      <td>1022.0</td>\n",
       "      <td>54.0</td>\n",
       "      <td>19000000.0</td>\n",
       "      <td>46998772.0</td>\n",
       "      <td>2274.0</td>\n",
       "      <td>146.0</td>\n",
       "    </tr>\n",
       "    <tr>\n",
       "      <th>1</th>\n",
       "      <td>The Blue Lagoon</td>\n",
       "      <td>6.0</td>\n",
       "      <td>1.0</td>\n",
       "      <td>1980</td>\n",
       "      <td>July 2, 1980 (United States)</td>\n",
       "      <td>5.8</td>\n",
       "      <td>65000.0</td>\n",
       "      <td>2234.0</td>\n",
       "      <td>1613.0</td>\n",
       "      <td>316.0</td>\n",
       "      <td>55.0</td>\n",
       "      <td>4500000.0</td>\n",
       "      <td>58853106.0</td>\n",
       "      <td>710.0</td>\n",
       "      <td>104.0</td>\n",
       "    </tr>\n",
       "    <tr>\n",
       "      <th>2</th>\n",
       "      <td>Star Wars: Episode V - The Empire Strikes Back</td>\n",
       "      <td>4.0</td>\n",
       "      <td>0.0</td>\n",
       "      <td>1980</td>\n",
       "      <td>June 20, 1980 (United States)</td>\n",
       "      <td>8.7</td>\n",
       "      <td>1200000.0</td>\n",
       "      <td>1093.0</td>\n",
       "      <td>2535.0</td>\n",
       "      <td>1708.0</td>\n",
       "      <td>55.0</td>\n",
       "      <td>18000000.0</td>\n",
       "      <td>538375067.0</td>\n",
       "      <td>1506.0</td>\n",
       "      <td>124.0</td>\n",
       "    </tr>\n",
       "    <tr>\n",
       "      <th>3</th>\n",
       "      <td>Airplane!</td>\n",
       "      <td>4.0</td>\n",
       "      <td>4.0</td>\n",
       "      <td>1980</td>\n",
       "      <td>July 2, 1980 (United States)</td>\n",
       "      <td>7.7</td>\n",
       "      <td>221000.0</td>\n",
       "      <td>1279.0</td>\n",
       "      <td>1976.0</td>\n",
       "      <td>2198.0</td>\n",
       "      <td>55.0</td>\n",
       "      <td>3500000.0</td>\n",
       "      <td>83453539.0</td>\n",
       "      <td>1770.0</td>\n",
       "      <td>88.0</td>\n",
       "    </tr>\n",
       "    <tr>\n",
       "      <th>4</th>\n",
       "      <td>Caddyshack</td>\n",
       "      <td>6.0</td>\n",
       "      <td>4.0</td>\n",
       "      <td>1980</td>\n",
       "      <td>July 25, 1980 (United States)</td>\n",
       "      <td>7.3</td>\n",
       "      <td>108000.0</td>\n",
       "      <td>1037.0</td>\n",
       "      <td>511.0</td>\n",
       "      <td>398.0</td>\n",
       "      <td>55.0</td>\n",
       "      <td>6000000.0</td>\n",
       "      <td>39846344.0</td>\n",
       "      <td>1737.0</td>\n",
       "      <td>98.0</td>\n",
       "    </tr>\n",
       "    <tr>\n",
       "      <th>5</th>\n",
       "      <td>Friday the 13th</td>\n",
       "      <td>6.0</td>\n",
       "      <td>9.0</td>\n",
       "      <td>1980</td>\n",
       "      <td>May 9, 1980 (United States)</td>\n",
       "      <td>6.4</td>\n",
       "      <td>123000.0</td>\n",
       "      <td>2487.0</td>\n",
       "      <td>4306.0</td>\n",
       "      <td>234.0</td>\n",
       "      <td>55.0</td>\n",
       "      <td>550000.0</td>\n",
       "      <td>39754601.0</td>\n",
       "      <td>1770.0</td>\n",
       "      <td>95.0</td>\n",
       "    </tr>\n",
       "    <tr>\n",
       "      <th>6</th>\n",
       "      <td>The Blues Brothers</td>\n",
       "      <td>6.0</td>\n",
       "      <td>0.0</td>\n",
       "      <td>1980</td>\n",
       "      <td>June 20, 1980 (United States)</td>\n",
       "      <td>7.9</td>\n",
       "      <td>188000.0</td>\n",
       "      <td>1390.0</td>\n",
       "      <td>822.0</td>\n",
       "      <td>1250.0</td>\n",
       "      <td>55.0</td>\n",
       "      <td>27000000.0</td>\n",
       "      <td>115229890.0</td>\n",
       "      <td>2237.0</td>\n",
       "      <td>133.0</td>\n",
       "    </tr>\n",
       "    <tr>\n",
       "      <th>7</th>\n",
       "      <td>Raging Bull</td>\n",
       "      <td>6.0</td>\n",
       "      <td>3.0</td>\n",
       "      <td>1980</td>\n",
       "      <td>December 19, 1980 (United States)</td>\n",
       "      <td>8.2</td>\n",
       "      <td>330000.0</td>\n",
       "      <td>1800.0</td>\n",
       "      <td>1748.0</td>\n",
       "      <td>2192.0</td>\n",
       "      <td>55.0</td>\n",
       "      <td>18000000.0</td>\n",
       "      <td>23402427.0</td>\n",
       "      <td>612.0</td>\n",
       "      <td>129.0</td>\n",
       "    </tr>\n",
       "    <tr>\n",
       "      <th>8</th>\n",
       "      <td>Superman II</td>\n",
       "      <td>4.0</td>\n",
       "      <td>0.0</td>\n",
       "      <td>1980</td>\n",
       "      <td>June 19, 1981 (United States)</td>\n",
       "      <td>6.8</td>\n",
       "      <td>101000.0</td>\n",
       "      <td>2268.0</td>\n",
       "      <td>1956.0</td>\n",
       "      <td>855.0</td>\n",
       "      <td>55.0</td>\n",
       "      <td>54000000.0</td>\n",
       "      <td>108185706.0</td>\n",
       "      <td>861.0</td>\n",
       "      <td>127.0</td>\n",
       "    </tr>\n",
       "    <tr>\n",
       "      <th>9</th>\n",
       "      <td>The Long Riders</td>\n",
       "      <td>6.0</td>\n",
       "      <td>3.0</td>\n",
       "      <td>1980</td>\n",
       "      <td>May 16, 1980 (United States)</td>\n",
       "      <td>7.0</td>\n",
       "      <td>10000.0</td>\n",
       "      <td>2817.0</td>\n",
       "      <td>413.0</td>\n",
       "      <td>572.0</td>\n",
       "      <td>55.0</td>\n",
       "      <td>10000000.0</td>\n",
       "      <td>15795189.0</td>\n",
       "      <td>2228.0</td>\n",
       "      <td>100.0</td>\n",
       "    </tr>\n",
       "    <tr>\n",
       "      <th>10</th>\n",
       "      <td>Any Which Way You Can</td>\n",
       "      <td>4.0</td>\n",
       "      <td>0.0</td>\n",
       "      <td>1980</td>\n",
       "      <td>December 17, 1980 (United States)</td>\n",
       "      <td>6.1</td>\n",
       "      <td>18000.0</td>\n",
       "      <td>352.0</td>\n",
       "      <td>3932.0</td>\n",
       "      <td>468.0</td>\n",
       "      <td>55.0</td>\n",
       "      <td>15000000.0</td>\n",
       "      <td>70687344.0</td>\n",
       "      <td>2146.0</td>\n",
       "      <td>116.0</td>\n",
       "    </tr>\n",
       "  </tbody>\n",
       "</table>\n",
       "</div>"
      ],
      "text/plain": [
       "                                              name  rating  genre  year  \\\n",
       "0                                      The Shining     6.0    6.0  1980   \n",
       "1                                  The Blue Lagoon     6.0    1.0  1980   \n",
       "2   Star Wars: Episode V - The Empire Strikes Back     4.0    0.0  1980   \n",
       "3                                        Airplane!     4.0    4.0  1980   \n",
       "4                                       Caddyshack     6.0    4.0  1980   \n",
       "5                                  Friday the 13th     6.0    9.0  1980   \n",
       "6                               The Blues Brothers     6.0    0.0  1980   \n",
       "7                                      Raging Bull     6.0    3.0  1980   \n",
       "8                                      Superman II     4.0    0.0  1980   \n",
       "9                                  The Long Riders     6.0    3.0  1980   \n",
       "10                           Any Which Way You Can     4.0    0.0  1980   \n",
       "\n",
       "                             released  score      votes  director  writer  \\\n",
       "0       June 13, 1980 (United States)    8.4   927000.0    2545.0  3960.0   \n",
       "1        July 2, 1980 (United States)    5.8    65000.0    2234.0  1613.0   \n",
       "2       June 20, 1980 (United States)    8.7  1200000.0    1093.0  2535.0   \n",
       "3        July 2, 1980 (United States)    7.7   221000.0    1279.0  1976.0   \n",
       "4       July 25, 1980 (United States)    7.3   108000.0    1037.0   511.0   \n",
       "5         May 9, 1980 (United States)    6.4   123000.0    2487.0  4306.0   \n",
       "6       June 20, 1980 (United States)    7.9   188000.0    1390.0   822.0   \n",
       "7   December 19, 1980 (United States)    8.2   330000.0    1800.0  1748.0   \n",
       "8       June 19, 1981 (United States)    6.8   101000.0    2268.0  1956.0   \n",
       "9        May 16, 1980 (United States)    7.0    10000.0    2817.0   413.0   \n",
       "10  December 17, 1980 (United States)    6.1    18000.0     352.0  3932.0   \n",
       "\n",
       "      star  country      budget        gross  company  runtime  \n",
       "0   1022.0     54.0  19000000.0   46998772.0   2274.0    146.0  \n",
       "1    316.0     55.0   4500000.0   58853106.0    710.0    104.0  \n",
       "2   1708.0     55.0  18000000.0  538375067.0   1506.0    124.0  \n",
       "3   2198.0     55.0   3500000.0   83453539.0   1770.0     88.0  \n",
       "4    398.0     55.0   6000000.0   39846344.0   1737.0     98.0  \n",
       "5    234.0     55.0    550000.0   39754601.0   1770.0     95.0  \n",
       "6   1250.0     55.0  27000000.0  115229890.0   2237.0    133.0  \n",
       "7   2192.0     55.0  18000000.0   23402427.0    612.0    129.0  \n",
       "8    855.0     55.0  54000000.0  108185706.0    861.0    127.0  \n",
       "9    572.0     55.0  10000000.0   15795189.0   2228.0    100.0  \n",
       "10   468.0     55.0  15000000.0   70687344.0   2146.0    116.0  "
      ]
     },
     "execution_count": 31,
     "metadata": {},
     "output_type": "execute_result"
    }
   ],
   "source": [
    "##Utiliser la bib OrdinalEncoder pour encoder les variables catégoriques\n",
    "from sklearn.preprocessing import OrdinalEncoder\n",
    "\n",
    "ord_enc = OrdinalEncoder()\n",
    "df[\"genre\"] = ord_enc.fit_transform(df[[\"genre\"]])\n",
    "df[\"country\"] = ord_enc.fit_transform(df[[\"country\"]])\n",
    "df[\"company\"] = ord_enc.fit_transform(df[[\"company\"]])\n",
    "df[\"rating\"] = ord_enc.fit_transform(df[[\"rating\"]])\n",
    "df[\"director\"] = ord_enc.fit_transform(df[[\"director\"]])\n",
    "df[\"writer\"] = ord_enc.fit_transform(df[[\"writer\"]])\n",
    "df[\"star\"] = ord_enc.fit_transform(df[[\"star\"]])\n",
    "\n",
    "\n",
    "\n",
    "df.head(11)"
   ]
  },
  {
   "cell_type": "code",
   "execution_count": 32,
   "metadata": {},
   "outputs": [
    {
     "data": {
      "text/html": [
       "<div>\n",
       "<style scoped>\n",
       "    .dataframe tbody tr th:only-of-type {\n",
       "        vertical-align: middle;\n",
       "    }\n",
       "\n",
       "    .dataframe tbody tr th {\n",
       "        vertical-align: top;\n",
       "    }\n",
       "\n",
       "    .dataframe thead th {\n",
       "        text-align: right;\n",
       "    }\n",
       "</style>\n",
       "<table border=\"1\" class=\"dataframe\">\n",
       "  <thead>\n",
       "    <tr style=\"text-align: right;\">\n",
       "      <th></th>\n",
       "      <th>year</th>\n",
       "      <th>score</th>\n",
       "      <th>votes</th>\n",
       "      <th>gross</th>\n",
       "      <th>budget</th>\n",
       "      <th>runtime</th>\n",
       "      <th>genre</th>\n",
       "      <th>country</th>\n",
       "      <th>company</th>\n",
       "      <th>rating</th>\n",
       "      <th>star</th>\n",
       "    </tr>\n",
       "  </thead>\n",
       "  <tbody>\n",
       "    <tr>\n",
       "      <th>0</th>\n",
       "      <td>1980</td>\n",
       "      <td>8.4</td>\n",
       "      <td>927000.0</td>\n",
       "      <td>46998772.0</td>\n",
       "      <td>19000000.0</td>\n",
       "      <td>146.0</td>\n",
       "      <td>6.0</td>\n",
       "      <td>54.0</td>\n",
       "      <td>2274.0</td>\n",
       "      <td>6.0</td>\n",
       "      <td>1022.0</td>\n",
       "    </tr>\n",
       "    <tr>\n",
       "      <th>1</th>\n",
       "      <td>1980</td>\n",
       "      <td>5.8</td>\n",
       "      <td>65000.0</td>\n",
       "      <td>58853106.0</td>\n",
       "      <td>4500000.0</td>\n",
       "      <td>104.0</td>\n",
       "      <td>1.0</td>\n",
       "      <td>55.0</td>\n",
       "      <td>710.0</td>\n",
       "      <td>6.0</td>\n",
       "      <td>316.0</td>\n",
       "    </tr>\n",
       "    <tr>\n",
       "      <th>2</th>\n",
       "      <td>1980</td>\n",
       "      <td>8.7</td>\n",
       "      <td>1200000.0</td>\n",
       "      <td>538375067.0</td>\n",
       "      <td>18000000.0</td>\n",
       "      <td>124.0</td>\n",
       "      <td>0.0</td>\n",
       "      <td>55.0</td>\n",
       "      <td>1506.0</td>\n",
       "      <td>4.0</td>\n",
       "      <td>1708.0</td>\n",
       "    </tr>\n",
       "    <tr>\n",
       "      <th>3</th>\n",
       "      <td>1980</td>\n",
       "      <td>7.7</td>\n",
       "      <td>221000.0</td>\n",
       "      <td>83453539.0</td>\n",
       "      <td>3500000.0</td>\n",
       "      <td>88.0</td>\n",
       "      <td>4.0</td>\n",
       "      <td>55.0</td>\n",
       "      <td>1770.0</td>\n",
       "      <td>4.0</td>\n",
       "      <td>2198.0</td>\n",
       "    </tr>\n",
       "    <tr>\n",
       "      <th>4</th>\n",
       "      <td>1980</td>\n",
       "      <td>7.3</td>\n",
       "      <td>108000.0</td>\n",
       "      <td>39846344.0</td>\n",
       "      <td>6000000.0</td>\n",
       "      <td>98.0</td>\n",
       "      <td>4.0</td>\n",
       "      <td>55.0</td>\n",
       "      <td>1737.0</td>\n",
       "      <td>6.0</td>\n",
       "      <td>398.0</td>\n",
       "    </tr>\n",
       "  </tbody>\n",
       "</table>\n",
       "</div>"
      ],
      "text/plain": [
       "   year  score      votes        gross      budget  runtime  genre  country  \\\n",
       "0  1980    8.4   927000.0   46998772.0  19000000.0    146.0    6.0     54.0   \n",
       "1  1980    5.8    65000.0   58853106.0   4500000.0    104.0    1.0     55.0   \n",
       "2  1980    8.7  1200000.0  538375067.0  18000000.0    124.0    0.0     55.0   \n",
       "3  1980    7.7   221000.0   83453539.0   3500000.0     88.0    4.0     55.0   \n",
       "4  1980    7.3   108000.0   39846344.0   6000000.0     98.0    4.0     55.0   \n",
       "\n",
       "   company  rating    star  \n",
       "0   2274.0     6.0  1022.0  \n",
       "1    710.0     6.0   316.0  \n",
       "2   1506.0     4.0  1708.0  \n",
       "3   1770.0     4.0  2198.0  \n",
       "4   1737.0     6.0   398.0  "
      ]
     },
     "execution_count": 32,
     "metadata": {},
     "output_type": "execute_result"
    }
   ],
   "source": [
    "##Création de dataset de prediction\n",
    "cols = [\"year\",\"score\",\"votes\",\"gross\",\"budget\",\"runtime\",\"genre\",\"country\",\"company\",\"rating\",\"star\"]; \n",
    "train_data = df\n",
    "train_data = train_data[cols] \n",
    "train_data.head()"
   ]
  },
  {
   "cell_type": "code",
   "execution_count": 33,
   "metadata": {},
   "outputs": [
    {
     "data": {
      "text/html": [
       "<div>\n",
       "<style scoped>\n",
       "    .dataframe tbody tr th:only-of-type {\n",
       "        vertical-align: middle;\n",
       "    }\n",
       "\n",
       "    .dataframe tbody tr th {\n",
       "        vertical-align: top;\n",
       "    }\n",
       "\n",
       "    .dataframe thead th {\n",
       "        text-align: right;\n",
       "    }\n",
       "</style>\n",
       "<table border=\"1\" class=\"dataframe\">\n",
       "  <thead>\n",
       "    <tr style=\"text-align: right;\">\n",
       "      <th></th>\n",
       "      <th>0</th>\n",
       "      <th>1</th>\n",
       "      <th>2</th>\n",
       "      <th>3</th>\n",
       "      <th>4</th>\n",
       "      <th>5</th>\n",
       "      <th>6</th>\n",
       "      <th>7</th>\n",
       "      <th>8</th>\n",
       "      <th>9</th>\n",
       "      <th>10</th>\n",
       "    </tr>\n",
       "  </thead>\n",
       "  <tbody>\n",
       "    <tr>\n",
       "      <th>0</th>\n",
       "      <td>-1.834533</td>\n",
       "      <td>2.076611</td>\n",
       "      <td>5.109840</td>\n",
       "      <td>-0.186671</td>\n",
       "      <td>-0.352088</td>\n",
       "      <td>2.083093</td>\n",
       "      <td>0.926812</td>\n",
       "      <td>0.364023</td>\n",
       "      <td>1.265829</td>\n",
       "      <td>0.699169</td>\n",
       "      <td>-0.440858</td>\n",
       "    </tr>\n",
       "    <tr>\n",
       "      <th>1</th>\n",
       "      <td>-1.834533</td>\n",
       "      <td>-0.608505</td>\n",
       "      <td>-0.145886</td>\n",
       "      <td>-0.114659</td>\n",
       "      <td>-0.756265</td>\n",
       "      <td>-0.177190</td>\n",
       "      <td>-0.975629</td>\n",
       "      <td>0.431984</td>\n",
       "      <td>-0.989438</td>\n",
       "      <td>0.699169</td>\n",
       "      <td>-1.325078</td>\n",
       "    </tr>\n",
       "    <tr>\n",
       "      <th>2</th>\n",
       "      <td>-1.834533</td>\n",
       "      <td>2.386432</td>\n",
       "      <td>6.774357</td>\n",
       "      <td>2.798304</td>\n",
       "      <td>-0.379962</td>\n",
       "      <td>0.899135</td>\n",
       "      <td>-1.356117</td>\n",
       "      <td>0.431984</td>\n",
       "      <td>0.158383</td>\n",
       "      <td>-1.045529</td>\n",
       "      <td>0.418314</td>\n",
       "    </tr>\n",
       "    <tr>\n",
       "      <th>3</th>\n",
       "      <td>-1.834533</td>\n",
       "      <td>1.353695</td>\n",
       "      <td>0.805266</td>\n",
       "      <td>0.034782</td>\n",
       "      <td>-0.784140</td>\n",
       "      <td>-1.038250</td>\n",
       "      <td>0.165836</td>\n",
       "      <td>0.431984</td>\n",
       "      <td>0.539068</td>\n",
       "      <td>-1.045529</td>\n",
       "      <td>1.032008</td>\n",
       "    </tr>\n",
       "    <tr>\n",
       "      <th>4</th>\n",
       "      <td>-1.834533</td>\n",
       "      <td>0.940600</td>\n",
       "      <td>0.116290</td>\n",
       "      <td>-0.230120</td>\n",
       "      <td>-0.714454</td>\n",
       "      <td>-0.500088</td>\n",
       "      <td>0.165836</td>\n",
       "      <td>0.431984</td>\n",
       "      <td>0.491482</td>\n",
       "      <td>0.699169</td>\n",
       "      <td>-1.222378</td>\n",
       "    </tr>\n",
       "  </tbody>\n",
       "</table>\n",
       "</div>"
      ],
      "text/plain": [
       "         0         1         2         3         4         5         6   \\\n",
       "0 -1.834533  2.076611  5.109840 -0.186671 -0.352088  2.083093  0.926812   \n",
       "1 -1.834533 -0.608505 -0.145886 -0.114659 -0.756265 -0.177190 -0.975629   \n",
       "2 -1.834533  2.386432  6.774357  2.798304 -0.379962  0.899135 -1.356117   \n",
       "3 -1.834533  1.353695  0.805266  0.034782 -0.784140 -1.038250  0.165836   \n",
       "4 -1.834533  0.940600  0.116290 -0.230120 -0.714454 -0.500088  0.165836   \n",
       "\n",
       "         7         8         9         10  \n",
       "0  0.364023  1.265829  0.699169 -0.440858  \n",
       "1  0.431984 -0.989438  0.699169 -1.325078  \n",
       "2  0.431984  0.158383 -1.045529  0.418314  \n",
       "3  0.431984  0.539068 -1.045529  1.032008  \n",
       "4  0.431984  0.491482  0.699169 -1.222378  "
      ]
     },
     "execution_count": 33,
     "metadata": {},
     "output_type": "execute_result"
    }
   ],
   "source": [
    "##Utilisation de bib StandardScaler pour normaliser les valeurs de notre dataset pour faciliter la prediction et avoir des bonnes resultas \n",
    "from sklearn.preprocessing import StandardScaler\n",
    "scaler = StandardScaler()\n",
    "scaler.fit(train_data)\n",
    "train_data = scaler.transform(train_data);\n",
    "train_data = pd.DataFrame(train_data)\n",
    "train_data.head()"
   ]
  },
  {
   "cell_type": "code",
   "execution_count": 34,
   "metadata": {},
   "outputs": [],
   "source": [
    "##Dataset training \n",
    "from sklearn.model_selection import train_test_split\n",
    "x=train_data.drop(4 , axis=1)\n",
    "y=train_data[4]\n",
    "x_train , x_test , y_train , y_test = train_test_split(x,y,test_size=0.2,random_state=2)"
   ]
  },
  {
   "cell_type": "code",
   "execution_count": 25,
   "metadata": {},
   "outputs": [
    {
     "name": "stdout",
     "output_type": "stream",
     "text": [
      "0.6618058462662926\n",
      "0.6618058462662926\n"
     ]
    }
   ],
   "source": [
    "##prediction avec LinearRegression\n",
    "from sklearn.linear_model import LinearRegression\n",
    "from sklearn.metrics import precision_score , recall_score , accuracy_score , r2_score \n",
    "\n",
    "model = LinearRegression()\n",
    "model.fit(x_train,y_train)\n",
    "\n",
    "pred = model.predict(x_test)\n",
    "\n",
    "print(r2_score(y_test, pred))\n",
    "print(model.score(x_test, y_test))"
   ]
  },
  {
   "cell_type": "code",
   "execution_count": 32,
   "metadata": {},
   "outputs": [],
   "source": [
    "##Affichage de resultat de prediction par rapport nos données actuelles \n",
    "def plotPred(y_true,y_pred):\n",
    "    plt.figure(figsize=(5,5))\n",
    "    plt.scatter(y_true, y_pred, c='crimson')\n",
    "    plt.yscale('log')\n",
    "    plt.xscale('log')\n",
    "\n",
    "    p1 = max(max(y_pred), max(y_true))\n",
    "    p2 = min(min(y_pred), min(y_true))\n",
    "    plt.plot([p1, p2], [p1, p2], 'b-')\n",
    "    plt.xlabel('True Values', fontsize=15)\n",
    "    plt.ylabel('Predictions', fontsize=15)\n",
    "    plt.axis('equal')\n",
    "    plt.show()"
   ]
  },
  {
   "cell_type": "code",
   "execution_count": 33,
   "metadata": {},
   "outputs": [
    {
     "data": {
      "image/png": "[encoded data removed]",
      "text/plain": [
       "<Figure size 500x500 with 1 Axes>"
      ]
     },
     "metadata": {},
     "output_type": "display_data"
    }
   ],
   "source": [
    "plotPred(y_test,pred)"
   ]
  },
  {
   "cell_type": "code",
   "execution_count": 39,
   "metadata": {},
   "outputs": [],
   "source": [
    "def MAPE(Y_actual,Y_Predicted):\n",
    "    mape = np.mean(np.abs((Y_actual - Y_Predicted)/Y_actual))\n",
    "    return mape"
   ]
  },
  {
   "cell_type": "code",
   "execution_count": 36,
   "metadata": {},
   "outputs": [
    {
     "name": "stdout",
     "output_type": "stream",
     "text": [
      "Ridge(alpha=1e-05)\n",
      "  Train R2 =  0.662\n",
      "  Train RMSE =  6.213E-01\n",
      "  Train MAPE =  1\n"
     ]
    }
   ],
   "source": [
    "import numpy as np\n",
    "from sklearn.linear_model import Ridge, RidgeCV, Lasso, LassoCV, BayesianRidge,ARDRegression\n",
    "from sklearn.metrics import r2_score, mean_squared_error\n",
    "##prediction avec Ridge\n",
    "model1 = Ridge(alpha=0.00001)\n",
    "# training\n",
    "model1.fit(x_train, y_train)\n",
    "# prediction\n",
    "pred2 = model1.predict(x_test)\n",
    "# evaluation\n",
    "print(model1)\n",
    "print('  Train R2 = ', '%.3f' %r2_score(y_test,pred2))\n",
    "print('  Train RMSE = ', '%.3E' %np.sqrt(mean_squared_error(y_test,pred2)))\n",
    "print('  Train MAPE = ', '%.0f' %MAPE(y_test,pred2))\n",
    "     "
   ]
  },
  {
   "cell_type": "code",
   "execution_count": 40,
   "metadata": {},
   "outputs": [
    {
     "name": "stderr",
     "output_type": "stream",
     "text": [
      "C:\\ProgramData\\Anaconda3\\lib\\site-packages\\xgboost\\data.py:250: FutureWarning:\n",
      "\n",
      "pandas.Int64Index is deprecated and will be removed from pandas in a future version. Use pandas.Index with the appropriate dtype instead.\n",
      "\n"
     ]
    },
    {
     "name": "stdout",
     "output_type": "stream",
     "text": [
      "  Train R2 =  0.761\n",
      "  Train RMSE =  5.225E-01\n",
      "  Train MAPE =  1\n"
     ]
    }
   ],
   "source": [
    "##prediction avec XGBRegressor\n",
    "from xgboost import XGBRegressor\n",
    "\n",
    "my_model = XGBRegressor()\n",
    "my_model.fit(x_train, y_train)\n",
    "preds = my_model.predict(x_test)\n",
    "print('  Train R2 = ', '%.3f' %r2_score(y_test, preds))\n",
    "print('  Train RMSE = ', '%.3E' %np.sqrt(mean_squared_error(y_test,preds)))\n",
    "print('  Train MAPE = ', '%.0f' %MAPE(y_test,preds))"
   ]
  },
  {
   "cell_type": "code",
   "execution_count": 38,
   "metadata": {},
   "outputs": [
    {
     "data": {
      "image/png": "[encoded data removed]",
      "text/plain": [
       "<Figure size 500x500 with 1 Axes>"
      ]
     },
     "metadata": {},
     "output_type": "display_data"
    }
   ],
   "source": [
    "plotPred(y_test,preds)"
   ]
  },
  {
   "cell_type": "code",
   "execution_count": 41,
   "metadata": {},
   "outputs": [
    {
     "name": "stdout",
     "output_type": "stream",
     "text": [
      "RidgeCV(alphas=array([ 0.1,  1. , 10. ]))\n",
      "  Train R2 =  0.662\n",
      "  Train RMSE =  6.211E-01\n",
      "  Train MAPE =  1\n"
     ]
    }
   ],
   "source": [
    "# choix de modele\n",
    "model2 = RidgeCV()\n",
    "# training\n",
    "model2.fit(x_train, y_train)\n",
    "# prediction\n",
    "y_train_pred = model2.predict(x_test)\n",
    "# evaluations\n",
    "print(model2)\n",
    "print('  Train R2 = ', '%.3f' %r2_score(y_test, y_train_pred))\n",
    "print('  Train RMSE = ', '%.3E' %np.sqrt(mean_squared_error(y_test,y_train_pred)))\n",
    "print('  Train MAPE = ', '%.0f' %MAPE(y_test,y_train_pred))"
   ]
  },
  {
   "cell_type": "code",
   "execution_count": 42,
   "metadata": {},
   "outputs": [
    {
     "name": "stdout",
     "output_type": "stream",
     "text": [
      "Lasso(alpha=0.01)\n",
      "  Train R2 =  0.662\n",
      "  Train RMSE =  6.213E-01\n",
      "  Train MAPE =  1\n"
     ]
    }
   ],
   "source": [
    "# choix de modele\n",
    "model3 = Lasso(alpha=0.01)\n",
    "# training\n",
    "model3.fit(x_train, y_train)\n",
    "# prediction\n",
    "y_train_pred = model3.predict(x_test)\n",
    "# evaluations\n",
    "print(model3)\n",
    "print('  Train R2 = ', '%.3f' %r2_score(y_test, y_train_pred))\n",
    "print('  Train RMSE = ', '%.3E' %np.sqrt(mean_squared_error(y_test,y_train_pred)))\n",
    "print('  Train MAPE = ', '%.0f' %MAPE(y_test,y_train_pred))"
   ]
  },
  {
   "cell_type": "code",
   "execution_count": 168,
   "metadata": {},
   "outputs": [
    {
     "name": "stdout",
     "output_type": "stream",
     "text": [
      "Fitting 10 folds for each of 1 candidates, totalling 10 fits\n",
      "[CV 1/10; 1/1] START ...........................................................\n",
      "[CV 1/10; 1/1] END ............................., score=0.621 total time=   0.0s\n",
      "[CV 2/10; 1/1] START ...........................................................\n",
      "[CV 2/10; 1/1] END ............................., score=0.574 total time=   0.0s\n",
      "[CV 3/10; 1/1] START ...........................................................\n",
      "[CV 3/10; 1/1] END ............................., score=0.695 total time=   0.0s\n",
      "[CV 4/10; 1/1] START ...........................................................\n",
      "[CV 4/10; 1/1] END ............................., score=0.602 total time=   0.0s\n",
      "[CV 5/10; 1/1] START ...........................................................\n",
      "[CV 5/10; 1/1] END ............................., score=0.592 total time=   0.0s\n",
      "[CV 6/10; 1/1] START ...........................................................\n",
      "[CV 6/10; 1/1] END ............................., score=0.555 total time=   0.0s\n",
      "[CV 7/10; 1/1] START ...........................................................\n",
      "[CV 7/10; 1/1] END ............................., score=0.556 total time=   0.0s\n",
      "[CV 8/10; 1/1] START ...........................................................\n",
      "[CV 8/10; 1/1] END ............................., score=0.552 total time=   0.0s\n",
      "[CV 9/10; 1/1] START ...........................................................\n",
      "[CV 9/10; 1/1] END ............................., score=0.598 total time=   0.0s\n",
      "[CV 10/10; 1/1] START ..........................................................\n",
      "[CV 10/10; 1/1] END ............................, score=0.623 total time=   0.0s\n",
      "{'mean_fit_time': array([0.00380242]), 'std_fit_time': array([0.00097804]), 'mean_score_time': array([0.00179784]), 'std_score_time': array([0.00059981]), 'params': [{}], 'split0_test_score': array([0.62119306]), 'split1_test_score': array([0.57443118]), 'split2_test_score': array([0.69454216]), 'split3_test_score': array([0.60226183]), 'split4_test_score': array([0.59240767]), 'split5_test_score': array([0.55459668]), 'split6_test_score': array([0.55617167]), 'split7_test_score': array([0.55189887]), 'split8_test_score': array([0.59823526]), 'split9_test_score': array([0.62255721]), 'mean_test_score': array([0.59682956]), 'std_test_score': array([0.04100173]), 'rank_test_score': array([1])}\n",
      "[-0.12792105  1.10624845  3.65646196 ...  0.54473741  1.36397302\n",
      " -0.13764263]\n",
      "  Train R2 =  0.662\n",
      "  Train RMSE =  6.213E-01\n"
     ]
    }
   ],
   "source": [
    "from sklearn.model_selection import GridSearchCV\n",
    "lr=LinearRegression()\n",
    "lr_params={}\n",
    "lr_grid=GridSearchCV(lr,lr_params,cv=10,verbose=10)\n",
    "lr_grid.fit(x_train,y_train)\n",
    "lr_score=lr_grid.cv_results_\n",
    "print(lr_score)\n",
    "preds=lr_grid.predict(x_test)\n",
    "print(preds)\n",
    "print('  Train R2 = ', '%.3f' %r2_score(y_test, preds))\n",
    "print('  Train RMSE = ', '%.3E' %np.sqrt(mean_squared_error(y_test,preds)))"
   ]
  },
  {
   "cell_type": "markdown",
   "metadata": {},
   "source": [
    "# Nous avons utilisé 6 modèles de prédiction dans ce projet et le meilleur score que nous avons obtenu est 0.761 avec le modèle XGBRegressor."
   ]
  },
  {
   "cell_type": "code",
   "execution_count": 35,
   "metadata": {},
   "outputs": [],
   "source": [
    "import keras\n",
    "from keras.models import Sequential\n",
    "from keras.layers import Dense\n",
    "import tensorflow as tf"
   ]
  },
  {
   "cell_type": "code",
   "execution_count": 93,
   "metadata": {},
   "outputs": [],
   "source": [
    "model = tf.keras.models.Sequential([\n",
    "    tf.keras.layers.Dense(128, activation='relu'),\n",
    "    tf.keras.layers.Dropout(0.2),\n",
    "    tf.keras.layers.Dense(10, activation='softmax')\n",
    "])"
   ]
  },
  {
   "cell_type": "code",
   "execution_count": 95,
   "metadata": {},
   "outputs": [],
   "source": [
    "model.compile(optimizer='adam',\n",
    "              loss='sparse_categorical_crossentropy',\n",
    "              metrics=['accuracy'])"
   ]
  },
  {
   "cell_type": "code",
   "execution_count": 100,
   "metadata": {},
   "outputs": [
    {
     "name": "stdout",
     "output_type": "stream",
     "text": [
      "Epoch 1/20\n",
      "190/190 [==============================] - 1s 3ms/step - loss: 0.2569 - accuracy: 0.0000e+00 - val_loss: 0.2967 - val_accuracy: 0.0000e+00\n",
      "Epoch 2/20\n",
      "190/190 [==============================] - 1s 3ms/step - loss: 0.2540 - accuracy: 0.0000e+00 - val_loss: 0.2952 - val_accuracy: 0.0000e+00\n",
      "Epoch 3/20\n",
      "190/190 [==============================] - 1s 3ms/step - loss: 0.2518 - accuracy: 0.0000e+00 - val_loss: 0.2915 - val_accuracy: 0.0000e+00\n",
      "Epoch 4/20\n",
      "190/190 [==============================] - 1s 3ms/step - loss: 0.2470 - accuracy: 0.0000e+00 - val_loss: 0.2894 - val_accuracy: 0.0000e+00\n",
      "Epoch 5/20\n",
      "190/190 [==============================] - 1s 3ms/step - loss: 0.2436 - accuracy: 0.0000e+00 - val_loss: 0.2899 - val_accuracy: 0.0000e+00\n",
      "Epoch 6/20\n",
      "190/190 [==============================] - 1s 3ms/step - loss: 0.2408 - accuracy: 0.0000e+00 - val_loss: 0.2897 - val_accuracy: 0.0000e+00\n",
      "Epoch 7/20\n",
      "190/190 [==============================] - 1s 3ms/step - loss: 0.2382 - accuracy: 0.0000e+00 - val_loss: 0.2888 - val_accuracy: 0.0000e+00\n",
      "Epoch 8/20\n",
      "190/190 [==============================] - 1s 3ms/step - loss: 0.2376 - accuracy: 0.0000e+00 - val_loss: 0.2864 - val_accuracy: 0.0000e+00\n",
      "Epoch 9/20\n",
      "190/190 [==============================] - 1s 3ms/step - loss: 0.2381 - accuracy: 0.0000e+00 - val_loss: 0.2842 - val_accuracy: 0.0000e+00\n",
      "Epoch 10/20\n",
      "190/190 [==============================] - 1s 3ms/step - loss: 0.2362 - accuracy: 0.0000e+00 - val_loss: 0.2836 - val_accuracy: 0.0000e+00\n",
      "Epoch 11/20\n",
      "190/190 [==============================] - 1s 3ms/step - loss: 0.2329 - accuracy: 0.0000e+00 - val_loss: 0.2843 - val_accuracy: 0.0000e+00\n",
      "Epoch 12/20\n",
      "190/190 [==============================] - 1s 3ms/step - loss: 0.2311 - accuracy: 0.0000e+00 - val_loss: 0.2854 - val_accuracy: 0.0000e+00\n",
      "Epoch 13/20\n",
      "190/190 [==============================] - 1s 3ms/step - loss: 0.2310 - accuracy: 0.0000e+00 - val_loss: 0.2820 - val_accuracy: 0.0000e+00\n",
      "Epoch 14/20\n",
      "190/190 [==============================] - 1s 3ms/step - loss: 0.2290 - accuracy: 0.0000e+00 - val_loss: 0.2822 - val_accuracy: 0.0000e+00\n",
      "Epoch 15/20\n",
      "190/190 [==============================] - 1s 3ms/step - loss: 0.2261 - accuracy: 0.0000e+00 - val_loss: 0.2857 - val_accuracy: 0.0000e+00\n",
      "Epoch 16/20\n",
      "190/190 [==============================] - 1s 3ms/step - loss: 0.2271 - accuracy: 0.0000e+00 - val_loss: 0.2831 - val_accuracy: 0.0000e+00\n",
      "Epoch 17/20\n",
      "190/190 [==============================] - 1s 3ms/step - loss: 0.2260 - accuracy: 0.0000e+00 - val_loss: 0.2826 - val_accuracy: 0.0000e+00\n",
      "Epoch 18/20\n",
      "190/190 [==============================] - 1s 3ms/step - loss: 0.2230 - accuracy: 0.0000e+00 - val_loss: 0.2871 - val_accuracy: 0.0000e+00\n",
      "Epoch 19/20\n",
      "190/190 [==============================] - 1s 3ms/step - loss: 0.2221 - accuracy: 0.0000e+00 - val_loss: 0.2811 - val_accuracy: 0.0000e+00\n",
      "Epoch 20/20\n",
      "190/190 [==============================] - 1s 3ms/step - loss: 0.2202 - accuracy: 0.0000e+00 - val_loss: 0.2821 - val_accuracy: 0.0000e+00\n",
      "48/48 - 0s - loss: 0.2821 - accuracy: 0.0000e+00 - 94ms/epoch - 2ms/step\n"
     ]
    },
    {
     "data": {
      "text/plain": [
       "[0.28212448954582214, 0.0]"
      ]
     },
     "execution_count": 100,
     "metadata": {},
     "output_type": "execute_result"
    }
   ],
   "source": [
    "hist = model.fit(x_train,y_train,epochs=20,validation_data=(x_test, y_test))\n",
    "model.evaluate(x_test,y_test,verbose=2)"
   ]
  },
  {
   "cell_type": "code",
   "execution_count": null,
   "metadata": {},
   "outputs": [],
   "source": []
  }
 ],
 "metadata": {
  "kernelspec": {
   "display_name": "Python 3 (ipykernel)",
   "language": "python",
   "name": "python3"
  },
  "language_info": {
   "codemirror_mode": {
    "name": "ipython",
    "version": 3
   },
   "file_extension": ".py",
   "mimetype": "text/x-python",
   "name": "python",
   "nbconvert_exporter": "python",
   "pygments_lexer": "ipython3",
   "version": "3.9.13"
  }
 },
 "nbformat": 4,
 "nbformat_minor": 4
}
